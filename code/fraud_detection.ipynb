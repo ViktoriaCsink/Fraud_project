{
 "cells": [
  {
   "cell_type": "markdown",
   "id": "e0bb028c",
   "metadata": {},
   "source": [
    "# Raveling: Detecting fraudulent transactions"
   ]
  },
  {
   "cell_type": "markdown",
   "id": "bdc449a2",
   "metadata": {},
   "source": [
    "### Detailed description goes here"
   ]
  },
  {
   "cell_type": "code",
   "execution_count": 1,
   "id": "0a3e413f",
   "metadata": {},
   "outputs": [],
   "source": [
    "import os\n",
    "import sys\n",
    "import json\n",
    "import pandas as pd\n",
    "import numpy as np\n",
    "import matplotlib.pyplot as plt\n",
    "import seaborn\n",
    "from tqdm import tqdm\n",
    "tqdm.pandas()"
   ]
  },
  {
   "cell_type": "code",
   "execution_count": 2,
   "id": "ae6dd19b",
   "metadata": {},
   "outputs": [
    {
     "name": "stdout",
     "output_type": "stream",
     "text": [
      "/Users/viktoria/opt/anaconda3/envs/ravelin/bin/python\n"
     ]
    }
   ],
   "source": [
    "print(sys.executable)"
   ]
  },
  {
   "cell_type": "markdown",
   "id": "2a4e322b",
   "metadata": {},
   "source": [
    "Define directories"
   ]
  },
  {
   "cell_type": "code",
   "execution_count": 3,
   "id": "a86dd911",
   "metadata": {},
   "outputs": [],
   "source": [
    "base = os.path.join('..')\n",
    "code = os.path.join(base, 'code')\n",
    "raw = os.path.join(base, 'raw_data')\n",
    "preproc = os.path.join(base, 'preproc')\n",
    "viz = os.path.join(base, 'visualisation')\n",
    "res = os.path.join(base, 'results')"
   ]
  },
  {
   "cell_type": "markdown",
   "id": "0dcd30fb",
   "metadata": {},
   "source": [
    "Import the dataset ('raw_data/customers.json')"
   ]
  },
  {
   "cell_type": "code",
   "execution_count": 4,
   "id": "f88cfe6f",
   "metadata": {},
   "outputs": [],
   "source": [
    "os.chdir(raw)\n",
    "customers = pd.DataFrame()\n",
    "for line in open('customers.json', 'r'):\n",
    "    customers = customers.append(pd.json_normalize(json.loads(line)))\n",
    "\n",
    "customers = customers.reset_index(drop=True)"
   ]
  },
  {
   "cell_type": "code",
   "execution_count": 5,
   "id": "c65863d3",
   "metadata": {},
   "outputs": [
    {
     "data": {
      "text/plain": [
       "(168, 9)"
      ]
     },
     "execution_count": 5,
     "metadata": {},
     "output_type": "execute_result"
    }
   ],
   "source": [
    "customers.shape"
   ]
  },
  {
   "cell_type": "code",
   "execution_count": 6,
   "id": "a1b4a23c",
   "metadata": {},
   "outputs": [
    {
     "data": {
      "text/html": [
       "<div>\n",
       "<style scoped>\n",
       "    .dataframe tbody tr th:only-of-type {\n",
       "        vertical-align: middle;\n",
       "    }\n",
       "\n",
       "    .dataframe tbody tr th {\n",
       "        vertical-align: top;\n",
       "    }\n",
       "\n",
       "    .dataframe thead th {\n",
       "        text-align: right;\n",
       "    }\n",
       "</style>\n",
       "<table border=\"1\" class=\"dataframe\">\n",
       "  <thead>\n",
       "    <tr style=\"text-align: right;\">\n",
       "      <th></th>\n",
       "      <th>fraudulent</th>\n",
       "      <th>orders</th>\n",
       "      <th>paymentMethods</th>\n",
       "      <th>transactions</th>\n",
       "      <th>customer.customerEmail</th>\n",
       "      <th>customer.customerPhone</th>\n",
       "      <th>customer.customerDevice</th>\n",
       "      <th>customer.customerIPAddress</th>\n",
       "      <th>customer.customerBillingAddress</th>\n",
       "    </tr>\n",
       "  </thead>\n",
       "  <tbody>\n",
       "    <tr>\n",
       "      <th>0</th>\n",
       "      <td>False</td>\n",
       "      <td>[{'orderId': 'vjbdvd', 'orderAmount': 18, 'ord...</td>\n",
       "      <td>[{'paymentMethodId': 'wt07xm68b', 'paymentMeth...</td>\n",
       "      <td>[{'transactionId': 'a9lcj51r', 'orderId': 'vjb...</td>\n",
       "      <td>josephhoward@yahoo.com</td>\n",
       "      <td>400-108-5415</td>\n",
       "      <td>yyeiaxpltf82440jnb3v</td>\n",
       "      <td>8.129.104.40</td>\n",
       "      <td>5493 Jones Islands\\nBrownside, CA 51896</td>\n",
       "    </tr>\n",
       "    <tr>\n",
       "      <th>1</th>\n",
       "      <td>True</td>\n",
       "      <td>[{'orderId': 'nlghpa', 'orderAmount': 45, 'ord...</td>\n",
       "      <td>[{'paymentMethodId': 'y3xp697jx', 'paymentMeth...</td>\n",
       "      <td>[{'transactionId': '5mi94sfw', 'orderId': 'nlg...</td>\n",
       "      <td>evansjeffery@yahoo.com</td>\n",
       "      <td>1-788-091-7546</td>\n",
       "      <td>r0jpm7xaeqqa3kr6mzum</td>\n",
       "      <td>219.173.211.202</td>\n",
       "      <td>356 Elizabeth Inlet Suite 120\\nPort Joshuabury...</td>\n",
       "    </tr>\n",
       "    <tr>\n",
       "      <th>2</th>\n",
       "      <td>False</td>\n",
       "      <td>[{'orderId': 'yk34y2', 'orderAmount': 33, 'ord...</td>\n",
       "      <td>[{'paymentMethodId': '8pneoi03z', 'paymentMeth...</td>\n",
       "      <td>[{'transactionId': 'q3lyvbza', 'orderId': 'yk3...</td>\n",
       "      <td>andersonwilliam@yahoo.com</td>\n",
       "      <td>024.420.0375</td>\n",
       "      <td>4m7h5ipl1shyavt6vv2r</td>\n",
       "      <td>67b7:3db8:67e0:3bea:b9d0:90c1:2b60:b9f0</td>\n",
       "      <td>8478 Sean Ridges Apt. 441\\nDavisberg, PR 72250</td>\n",
       "    </tr>\n",
       "    <tr>\n",
       "      <th>3</th>\n",
       "      <td>False</td>\n",
       "      <td>[{'orderId': 'fbz9ep', 'orderAmount': 34, 'ord...</td>\n",
       "      <td>[{'paymentMethodId': 'pdxjdwui4', 'paymentMeth...</td>\n",
       "      <td>[{'transactionId': 'vx4cjc27', 'orderId': 'fbz...</td>\n",
       "      <td>rubenjuarez@yahoo.com</td>\n",
       "      <td>670.664.8168x94985</td>\n",
       "      <td>slovx60t0i558may4ks0</td>\n",
       "      <td>95de:8565:5a66:792c:26e0:6cfb:7d87:11af</td>\n",
       "      <td>7769 Elizabeth Bridge Apt. 343\\nNortonstad, FM...</td>\n",
       "    </tr>\n",
       "    <tr>\n",
       "      <th>4</th>\n",
       "      <td>True</td>\n",
       "      <td>[{'orderId': '56h7iw', 'orderAmount': 71, 'ord...</td>\n",
       "      <td>[{'paymentMethodId': 'w1i1zq3rg', 'paymentMeth...</td>\n",
       "      <td>[{'transactionId': 'q8j3dgni', 'orderId': '56h...</td>\n",
       "      <td>uchen@malone.com</td>\n",
       "      <td>1-981-877-0870</td>\n",
       "      <td>j0pd24k5h8dl2fqu0cz4</td>\n",
       "      <td>196.89.235.192</td>\n",
       "      <td>148 Russell Lodge Apt. 445\\nPort Jenniferside,...</td>\n",
       "    </tr>\n",
       "  </tbody>\n",
       "</table>\n",
       "</div>"
      ],
      "text/plain": [
       "   fraudulent                                             orders  \\\n",
       "0       False  [{'orderId': 'vjbdvd', 'orderAmount': 18, 'ord...   \n",
       "1        True  [{'orderId': 'nlghpa', 'orderAmount': 45, 'ord...   \n",
       "2       False  [{'orderId': 'yk34y2', 'orderAmount': 33, 'ord...   \n",
       "3       False  [{'orderId': 'fbz9ep', 'orderAmount': 34, 'ord...   \n",
       "4        True  [{'orderId': '56h7iw', 'orderAmount': 71, 'ord...   \n",
       "\n",
       "                                      paymentMethods  \\\n",
       "0  [{'paymentMethodId': 'wt07xm68b', 'paymentMeth...   \n",
       "1  [{'paymentMethodId': 'y3xp697jx', 'paymentMeth...   \n",
       "2  [{'paymentMethodId': '8pneoi03z', 'paymentMeth...   \n",
       "3  [{'paymentMethodId': 'pdxjdwui4', 'paymentMeth...   \n",
       "4  [{'paymentMethodId': 'w1i1zq3rg', 'paymentMeth...   \n",
       "\n",
       "                                        transactions  \\\n",
       "0  [{'transactionId': 'a9lcj51r', 'orderId': 'vjb...   \n",
       "1  [{'transactionId': '5mi94sfw', 'orderId': 'nlg...   \n",
       "2  [{'transactionId': 'q3lyvbza', 'orderId': 'yk3...   \n",
       "3  [{'transactionId': 'vx4cjc27', 'orderId': 'fbz...   \n",
       "4  [{'transactionId': 'q8j3dgni', 'orderId': '56h...   \n",
       "\n",
       "      customer.customerEmail customer.customerPhone customer.customerDevice  \\\n",
       "0     josephhoward@yahoo.com           400-108-5415    yyeiaxpltf82440jnb3v   \n",
       "1     evansjeffery@yahoo.com         1-788-091-7546    r0jpm7xaeqqa3kr6mzum   \n",
       "2  andersonwilliam@yahoo.com           024.420.0375    4m7h5ipl1shyavt6vv2r   \n",
       "3      rubenjuarez@yahoo.com     670.664.8168x94985    slovx60t0i558may4ks0   \n",
       "4           uchen@malone.com         1-981-877-0870    j0pd24k5h8dl2fqu0cz4   \n",
       "\n",
       "                customer.customerIPAddress  \\\n",
       "0                             8.129.104.40   \n",
       "1                          219.173.211.202   \n",
       "2  67b7:3db8:67e0:3bea:b9d0:90c1:2b60:b9f0   \n",
       "3  95de:8565:5a66:792c:26e0:6cfb:7d87:11af   \n",
       "4                           196.89.235.192   \n",
       "\n",
       "                     customer.customerBillingAddress  \n",
       "0            5493 Jones Islands\\nBrownside, CA 51896  \n",
       "1  356 Elizabeth Inlet Suite 120\\nPort Joshuabury...  \n",
       "2     8478 Sean Ridges Apt. 441\\nDavisberg, PR 72250  \n",
       "3  7769 Elizabeth Bridge Apt. 343\\nNortonstad, FM...  \n",
       "4  148 Russell Lodge Apt. 445\\nPort Jenniferside,...  "
      ]
     },
     "execution_count": 6,
     "metadata": {},
     "output_type": "execute_result"
    }
   ],
   "source": [
    "customers.head()"
   ]
  },
  {
   "cell_type": "markdown",
   "id": "8d69ec79",
   "metadata": {},
   "source": [
    "### 1. Exploring variables: determine the units of observation"
   ]
  },
  {
   "cell_type": "code",
   "execution_count": 7,
   "id": "71c89b59",
   "metadata": {},
   "outputs": [
    {
     "data": {
      "text/plain": [
       "161"
      ]
     },
     "execution_count": 7,
     "metadata": {},
     "output_type": "execute_result"
    }
   ],
   "source": [
    "len(customers['customer.customerEmail'].unique())"
   ]
  },
  {
   "cell_type": "code",
   "execution_count": 8,
   "id": "93ded1b0",
   "metadata": {},
   "outputs": [
    {
     "data": {
      "text/plain": [
       "[('fraudulent', numpy.bool_),\n",
       " ('orders', list),\n",
       " ('paymentMethods', list),\n",
       " ('transactions', list),\n",
       " ('customer.customerEmail', str),\n",
       " ('customer.customerPhone', str),\n",
       " ('customer.customerDevice', str),\n",
       " ('customer.customerIPAddress', str),\n",
       " ('customer.customerBillingAddress', str)]"
      ]
     },
     "execution_count": 8,
     "metadata": {},
     "output_type": "execute_result"
    }
   ],
   "source": [
    "[(c, type(customers.loc[0,c])) for c in customers.columns]"
   ]
  },
  {
   "cell_type": "code",
   "execution_count": 9,
   "id": "df4419b7",
   "metadata": {},
   "outputs": [
    {
     "name": "stdout",
     "output_type": "stream",
     "text": [
      "Fraud:  61 \n",
      "Non-fraud:  107\n"
     ]
    }
   ],
   "source": [
    "print('Fraud: ', len(customers[customers['fraudulent']==True]), '\\nNon-fraud: ', len(customers[customers['fraudulent']==False]))"
   ]
  },
  {
   "cell_type": "markdown",
   "id": "335d7709",
   "metadata": {},
   "source": [
    "Find out how the variables relate to one another. Dictionary keys must be linked."
   ]
  },
  {
   "cell_type": "code",
   "execution_count": 10,
   "id": "f4b19c50",
   "metadata": {},
   "outputs": [
    {
     "name": "stdout",
     "output_type": "stream",
     "text": [
      "dict_keys(['orderId', 'orderAmount', 'orderState', 'orderShippingAddress'])\n"
     ]
    }
   ],
   "source": [
    "print(customers.loc[0, 'orders'][0].keys())"
   ]
  },
  {
   "cell_type": "code",
   "execution_count": 11,
   "id": "eee95a4f",
   "metadata": {},
   "outputs": [
    {
     "name": "stdout",
     "output_type": "stream",
     "text": [
      "dict_keys(['transactionId', 'orderId', 'paymentMethodId', 'transactionAmount', 'transactionFailed'])\n"
     ]
    }
   ],
   "source": [
    "print(customers.loc[0, 'transactions'][0].keys())"
   ]
  },
  {
   "cell_type": "code",
   "execution_count": 12,
   "id": "57ba2dfe",
   "metadata": {},
   "outputs": [
    {
     "name": "stdout",
     "output_type": "stream",
     "text": [
      "dict_keys(['paymentMethodId', 'paymentMethodRegistrationFailure', 'paymentMethodType', 'paymentMethodProvider', 'paymentMethodIssuer'])\n"
     ]
    }
   ],
   "source": [
    "print(customers.loc[0, 'paymentMethods'][0].keys())"
   ]
  },
  {
   "cell_type": "markdown",
   "id": "2c4b17ce",
   "metadata": {},
   "source": [
    "Each order is related to a transaction through 'orderId'. Each payment method is related to a transaction through paymentMethodId."
   ]
  },
  {
   "cell_type": "markdown",
   "id": "f984b291",
   "metadata": {},
   "source": [
    "The units of observation shall be transactions. Create a dataframe where each transaction is a row."
   ]
  },
  {
   "cell_type": "code",
   "execution_count": 13,
   "id": "4cd93b87",
   "metadata": {},
   "outputs": [
    {
     "name": "stderr",
     "output_type": "stream",
     "text": [
      "168it [00:01, 159.44it/s]\n"
     ]
    }
   ],
   "source": [
    "transactions = pd.DataFrame()\n",
    "\n",
    "for row,val in tqdm(customers.iterrows()):\n",
    "    \n",
    "    transaction_list = customers.loc[row, 'transactions']\n",
    "    order_list = customers.loc[row, 'orders']\n",
    "    payment_list = customers.loc[row, 'paymentMethods']\n",
    "    \n",
    "    #each transaction will be a row - find the corresponding info\n",
    "    for t in transaction_list:\n",
    "        \n",
    "        cust_info = pd.DataFrame(val).T.reset_index(drop=True)\n",
    "        trans_info = pd.DataFrame.from_dict({k:v for k,v in t.items()}, orient='index').T\n",
    "       \n",
    "    \n",
    "        #identify the corresponding order\n",
    "        try:\n",
    "            this_order = [o for o in order_list if o.get('orderId')==t.get('orderId')][0]\n",
    "            order_info = pd.DataFrame.from_dict({k:v for k,v in this_order.items()}, orient='index').T\n",
    "        except:\n",
    "            order_info = pd.DataFrame(data={'orderId':[None], \n",
    "                                            'orderAmount':[None], \n",
    "                                            'orderState':[None], \n",
    "                                            'orderShippingAddress':[None]})\n",
    "    \n",
    "        \n",
    "        #identify the corresponding payment info\n",
    "        try:\n",
    "            this_payment = [p for p in payment_list if p.get('paymentMethodId')==t.get('paymentMethodId')][0]\n",
    "            payment_info = pd.DataFrame.from_dict({k:v for k,v in this_payment.items()}, orient='index').T\n",
    "        except:\n",
    "            payment_info = pd.DataFrame(data={'paymentMethodId':[None], \n",
    "                                              'paymentMethodRegistrationFailure':[None], \n",
    "                                              'paymentMethodType':[None], \n",
    "                                              'paymentMethodProvider':[None], \n",
    "                                              'paymentMethodIssuer':None})\n",
    "        \n",
    "            \n",
    "        #join them\n",
    "        newrow = pd.concat([cust_info, trans_info, order_info, payment_info], axis=1)\n",
    "        newrow = newrow.loc[:, ~newrow.columns.duplicated()]\n",
    "        transactions = transactions.append(newrow).reset_index(drop=True)\n",
    "        \n",
    "        \n",
    "transactions = transactions.drop(['orders', 'paymentMethods', 'transactions', 'orderAmount'], axis=1)"
   ]
  },
  {
   "cell_type": "code",
   "execution_count": 14,
   "id": "046573b7",
   "metadata": {},
   "outputs": [
    {
     "data": {
      "text/html": [
       "<div>\n",
       "<style scoped>\n",
       "    .dataframe tbody tr th:only-of-type {\n",
       "        vertical-align: middle;\n",
       "    }\n",
       "\n",
       "    .dataframe tbody tr th {\n",
       "        vertical-align: top;\n",
       "    }\n",
       "\n",
       "    .dataframe thead th {\n",
       "        text-align: right;\n",
       "    }\n",
       "</style>\n",
       "<table border=\"1\" class=\"dataframe\">\n",
       "  <thead>\n",
       "    <tr style=\"text-align: right;\">\n",
       "      <th></th>\n",
       "      <th>fraudulent</th>\n",
       "      <th>customer.customerEmail</th>\n",
       "      <th>customer.customerPhone</th>\n",
       "      <th>customer.customerDevice</th>\n",
       "      <th>customer.customerIPAddress</th>\n",
       "      <th>customer.customerBillingAddress</th>\n",
       "      <th>transactionId</th>\n",
       "      <th>orderId</th>\n",
       "      <th>paymentMethodId</th>\n",
       "      <th>transactionAmount</th>\n",
       "      <th>transactionFailed</th>\n",
       "      <th>orderState</th>\n",
       "      <th>orderShippingAddress</th>\n",
       "      <th>paymentMethodRegistrationFailure</th>\n",
       "      <th>paymentMethodType</th>\n",
       "      <th>paymentMethodProvider</th>\n",
       "      <th>paymentMethodIssuer</th>\n",
       "    </tr>\n",
       "  </thead>\n",
       "  <tbody>\n",
       "    <tr>\n",
       "      <th>0</th>\n",
       "      <td>False</td>\n",
       "      <td>josephhoward@yahoo.com</td>\n",
       "      <td>400-108-5415</td>\n",
       "      <td>yyeiaxpltf82440jnb3v</td>\n",
       "      <td>8.129.104.40</td>\n",
       "      <td>5493 Jones Islands\\nBrownside, CA 51896</td>\n",
       "      <td>a9lcj51r</td>\n",
       "      <td>vjbdvd</td>\n",
       "      <td>wt07xm68b</td>\n",
       "      <td>18</td>\n",
       "      <td>False</td>\n",
       "      <td>pending</td>\n",
       "      <td>5493 Jones Islands\\nBrownside, CA 51896</td>\n",
       "      <td>True</td>\n",
       "      <td>card</td>\n",
       "      <td>JCB 16 digit</td>\n",
       "      <td>Citizens First Banks</td>\n",
       "    </tr>\n",
       "    <tr>\n",
       "      <th>1</th>\n",
       "      <td>False</td>\n",
       "      <td>josephhoward@yahoo.com</td>\n",
       "      <td>400-108-5415</td>\n",
       "      <td>yyeiaxpltf82440jnb3v</td>\n",
       "      <td>8.129.104.40</td>\n",
       "      <td>5493 Jones Islands\\nBrownside, CA 51896</td>\n",
       "      <td>y4wcv03i</td>\n",
       "      <td>yp6x27</td>\n",
       "      <td>wt07xm68b</td>\n",
       "      <td>26</td>\n",
       "      <td>False</td>\n",
       "      <td>fulfilled</td>\n",
       "      <td>5493 Jones Islands\\nBrownside, CA 51896</td>\n",
       "      <td>True</td>\n",
       "      <td>card</td>\n",
       "      <td>JCB 16 digit</td>\n",
       "      <td>Citizens First Banks</td>\n",
       "    </tr>\n",
       "    <tr>\n",
       "      <th>2</th>\n",
       "      <td>True</td>\n",
       "      <td>evansjeffery@yahoo.com</td>\n",
       "      <td>1-788-091-7546</td>\n",
       "      <td>r0jpm7xaeqqa3kr6mzum</td>\n",
       "      <td>219.173.211.202</td>\n",
       "      <td>356 Elizabeth Inlet Suite 120\\nPort Joshuabury...</td>\n",
       "      <td>5mi94sfw</td>\n",
       "      <td>nlghpa</td>\n",
       "      <td>41ug157xz</td>\n",
       "      <td>45</td>\n",
       "      <td>False</td>\n",
       "      <td>fulfilled</td>\n",
       "      <td>898 Henry Ports\\nNew Keithview, CA 95893-2497</td>\n",
       "      <td>False</td>\n",
       "      <td>bitcoin</td>\n",
       "      <td>American Express</td>\n",
       "      <td>Bastion Banks</td>\n",
       "    </tr>\n",
       "    <tr>\n",
       "      <th>3</th>\n",
       "      <td>True</td>\n",
       "      <td>evansjeffery@yahoo.com</td>\n",
       "      <td>1-788-091-7546</td>\n",
       "      <td>r0jpm7xaeqqa3kr6mzum</td>\n",
       "      <td>219.173.211.202</td>\n",
       "      <td>356 Elizabeth Inlet Suite 120\\nPort Joshuabury...</td>\n",
       "      <td>br8ba1nu</td>\n",
       "      <td>uw0eeb</td>\n",
       "      <td>41ug157xz</td>\n",
       "      <td>23</td>\n",
       "      <td>False</td>\n",
       "      <td>fulfilled</td>\n",
       "      <td>356 Elizabeth Inlet Suite 120\\nPort Joshuabury...</td>\n",
       "      <td>False</td>\n",
       "      <td>bitcoin</td>\n",
       "      <td>American Express</td>\n",
       "      <td>Bastion Banks</td>\n",
       "    </tr>\n",
       "    <tr>\n",
       "      <th>4</th>\n",
       "      <td>True</td>\n",
       "      <td>evansjeffery@yahoo.com</td>\n",
       "      <td>1-788-091-7546</td>\n",
       "      <td>r0jpm7xaeqqa3kr6mzum</td>\n",
       "      <td>219.173.211.202</td>\n",
       "      <td>356 Elizabeth Inlet Suite 120\\nPort Joshuabury...</td>\n",
       "      <td>a33145ss</td>\n",
       "      <td>bn44oh</td>\n",
       "      <td>y3xp697jx</td>\n",
       "      <td>43</td>\n",
       "      <td>True</td>\n",
       "      <td>fulfilled</td>\n",
       "      <td>5093 Bryan Forks\\nJoshuaton, FM 01565-9801</td>\n",
       "      <td>True</td>\n",
       "      <td>bitcoin</td>\n",
       "      <td>VISA 16 digit</td>\n",
       "      <td>Solace Banks</td>\n",
       "    </tr>\n",
       "  </tbody>\n",
       "</table>\n",
       "</div>"
      ],
      "text/plain": [
       "  fraudulent  customer.customerEmail customer.customerPhone  \\\n",
       "0      False  josephhoward@yahoo.com           400-108-5415   \n",
       "1      False  josephhoward@yahoo.com           400-108-5415   \n",
       "2       True  evansjeffery@yahoo.com         1-788-091-7546   \n",
       "3       True  evansjeffery@yahoo.com         1-788-091-7546   \n",
       "4       True  evansjeffery@yahoo.com         1-788-091-7546   \n",
       "\n",
       "  customer.customerDevice customer.customerIPAddress  \\\n",
       "0    yyeiaxpltf82440jnb3v               8.129.104.40   \n",
       "1    yyeiaxpltf82440jnb3v               8.129.104.40   \n",
       "2    r0jpm7xaeqqa3kr6mzum            219.173.211.202   \n",
       "3    r0jpm7xaeqqa3kr6mzum            219.173.211.202   \n",
       "4    r0jpm7xaeqqa3kr6mzum            219.173.211.202   \n",
       "\n",
       "                     customer.customerBillingAddress transactionId orderId  \\\n",
       "0            5493 Jones Islands\\nBrownside, CA 51896      a9lcj51r  vjbdvd   \n",
       "1            5493 Jones Islands\\nBrownside, CA 51896      y4wcv03i  yp6x27   \n",
       "2  356 Elizabeth Inlet Suite 120\\nPort Joshuabury...      5mi94sfw  nlghpa   \n",
       "3  356 Elizabeth Inlet Suite 120\\nPort Joshuabury...      br8ba1nu  uw0eeb   \n",
       "4  356 Elizabeth Inlet Suite 120\\nPort Joshuabury...      a33145ss  bn44oh   \n",
       "\n",
       "  paymentMethodId transactionAmount transactionFailed orderState  \\\n",
       "0       wt07xm68b                18             False    pending   \n",
       "1       wt07xm68b                26             False  fulfilled   \n",
       "2       41ug157xz                45             False  fulfilled   \n",
       "3       41ug157xz                23             False  fulfilled   \n",
       "4       y3xp697jx                43              True  fulfilled   \n",
       "\n",
       "                                orderShippingAddress  \\\n",
       "0            5493 Jones Islands\\nBrownside, CA 51896   \n",
       "1            5493 Jones Islands\\nBrownside, CA 51896   \n",
       "2      898 Henry Ports\\nNew Keithview, CA 95893-2497   \n",
       "3  356 Elizabeth Inlet Suite 120\\nPort Joshuabury...   \n",
       "4         5093 Bryan Forks\\nJoshuaton, FM 01565-9801   \n",
       "\n",
       "  paymentMethodRegistrationFailure paymentMethodType paymentMethodProvider  \\\n",
       "0                             True              card          JCB 16 digit   \n",
       "1                             True              card          JCB 16 digit   \n",
       "2                            False           bitcoin      American Express   \n",
       "3                            False           bitcoin      American Express   \n",
       "4                             True           bitcoin         VISA 16 digit   \n",
       "\n",
       "    paymentMethodIssuer  \n",
       "0  Citizens First Banks  \n",
       "1  Citizens First Banks  \n",
       "2         Bastion Banks  \n",
       "3         Bastion Banks  \n",
       "4          Solace Banks  "
      ]
     },
     "execution_count": 14,
     "metadata": {},
     "output_type": "execute_result"
    }
   ],
   "source": [
    "transactions.head()"
   ]
  },
  {
   "cell_type": "code",
   "execution_count": null,
   "id": "fcce6630",
   "metadata": {},
   "outputs": [],
   "source": []
  }
 ],
 "metadata": {
  "kernelspec": {
   "display_name": "Python 3 (ipykernel)",
   "language": "python",
   "name": "python3"
  },
  "language_info": {
   "codemirror_mode": {
    "name": "ipython",
    "version": 3
   },
   "file_extension": ".py",
   "mimetype": "text/x-python",
   "name": "python",
   "nbconvert_exporter": "python",
   "pygments_lexer": "ipython3",
   "version": "3.8.11"
  }
 },
 "nbformat": 4,
 "nbformat_minor": 5
}
