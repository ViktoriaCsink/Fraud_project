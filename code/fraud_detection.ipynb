{
 "cells": [
  {
   "cell_type": "markdown",
   "id": "e0bb028c",
   "metadata": {},
   "source": [
    "# Raveling: Detecting fraudulent transactions"
   ]
  },
  {
   "cell_type": "markdown",
   "id": "bdc449a2",
   "metadata": {},
   "source": [
    "### Detailed description goes here"
   ]
  },
  {
   "cell_type": "code",
   "execution_count": 33,
   "id": "0a3e413f",
   "metadata": {},
   "outputs": [],
   "source": [
    "import os\n",
    "import sys\n",
    "import json\n",
    "import pandas as pd\n",
    "import numpy as np\n",
    "import matplotlib.pyplot as plt\n",
    "import seaborn as sns\n",
    "from tqdm import tqdm\n",
    "tqdm.pandas()\n",
    "from statistics import mean\n",
    "from statistics import stdev\n",
    "from scipy.stats import randint as sp_randint\n",
    "from sklearn.preprocessing import OneHotEncoder\n",
    "from sklearn.preprocessing import LabelEncoder\n",
    "from sklearn.model_selection import train_test_split\n",
    "from sklearn.metrics import accuracy_score\n",
    "from sklearn.metrics import classification_report, f1_score, make_scorer, log_loss\n",
    "from sklearn.pipeline import Pipeline\n",
    "from sklearn.ensemble import RandomForestClassifier\n",
    "from sklearn.model_selection import GridSearchCV, RandomizedSearchCV, LeaveOneOut, KFold\n",
    "from sklearn.model_selection import RepeatedStratifiedKFold\n",
    "from sklearn.model_selection import validation_curve\n",
    "from sklearn.metrics import r2_score\n",
    "from rfpimp import permutation_importances\n",
    "import pickle"
   ]
  },
  {
   "cell_type": "code",
   "execution_count": 2,
   "id": "ae6dd19b",
   "metadata": {},
   "outputs": [
    {
     "name": "stdout",
     "output_type": "stream",
     "text": [
      "/Users/viktoria/opt/anaconda3/envs/ravelin/bin/python\n"
     ]
    }
   ],
   "source": [
    "print(sys.executable)"
   ]
  },
  {
   "cell_type": "markdown",
   "id": "2a4e322b",
   "metadata": {},
   "source": [
    "Define directories"
   ]
  },
  {
   "cell_type": "code",
   "execution_count": 3,
   "id": "a86dd911",
   "metadata": {},
   "outputs": [],
   "source": [
    "base = '/Users/Viktoria/Desktop/Fraud_project'\n",
    "code = os.path.join(base, 'code')\n",
    "raw = os.path.join(base, 'raw_data')\n",
    "preproc = os.path.join(base, 'preprocessed_data')\n",
    "viz = os.path.join(base, 'visualisation')\n",
    "res = os.path.join(base, 'results')"
   ]
  },
  {
   "cell_type": "markdown",
   "id": "0dcd30fb",
   "metadata": {},
   "source": [
    "Import the dataset ('raw_data/customers.json')"
   ]
  },
  {
   "cell_type": "code",
   "execution_count": 4,
   "id": "f88cfe6f",
   "metadata": {},
   "outputs": [],
   "source": [
    "os.chdir(raw)\n",
    "customers = pd.DataFrame()\n",
    "for line in open('customers.json', 'r'):\n",
    "    customers = customers.append(pd.json_normalize(json.loads(line)))\n",
    "\n",
    "customers = customers.reset_index(drop=True)"
   ]
  },
  {
   "cell_type": "code",
   "execution_count": 5,
   "id": "c65863d3",
   "metadata": {},
   "outputs": [
    {
     "data": {
      "text/plain": [
       "(168, 9)"
      ]
     },
     "execution_count": 5,
     "metadata": {},
     "output_type": "execute_result"
    }
   ],
   "source": [
    "customers.shape"
   ]
  },
  {
   "cell_type": "code",
   "execution_count": 6,
   "id": "a1b4a23c",
   "metadata": {},
   "outputs": [
    {
     "data": {
      "text/html": [
       "<div>\n",
       "<style scoped>\n",
       "    .dataframe tbody tr th:only-of-type {\n",
       "        vertical-align: middle;\n",
       "    }\n",
       "\n",
       "    .dataframe tbody tr th {\n",
       "        vertical-align: top;\n",
       "    }\n",
       "\n",
       "    .dataframe thead th {\n",
       "        text-align: right;\n",
       "    }\n",
       "</style>\n",
       "<table border=\"1\" class=\"dataframe\">\n",
       "  <thead>\n",
       "    <tr style=\"text-align: right;\">\n",
       "      <th></th>\n",
       "      <th>fraudulent</th>\n",
       "      <th>orders</th>\n",
       "      <th>paymentMethods</th>\n",
       "      <th>transactions</th>\n",
       "      <th>customer.customerEmail</th>\n",
       "      <th>customer.customerPhone</th>\n",
       "      <th>customer.customerDevice</th>\n",
       "      <th>customer.customerIPAddress</th>\n",
       "      <th>customer.customerBillingAddress</th>\n",
       "    </tr>\n",
       "  </thead>\n",
       "  <tbody>\n",
       "    <tr>\n",
       "      <th>0</th>\n",
       "      <td>False</td>\n",
       "      <td>[{'orderId': 'vjbdvd', 'orderAmount': 18, 'ord...</td>\n",
       "      <td>[{'paymentMethodId': 'wt07xm68b', 'paymentMeth...</td>\n",
       "      <td>[{'transactionId': 'a9lcj51r', 'orderId': 'vjb...</td>\n",
       "      <td>josephhoward@yahoo.com</td>\n",
       "      <td>400-108-5415</td>\n",
       "      <td>yyeiaxpltf82440jnb3v</td>\n",
       "      <td>8.129.104.40</td>\n",
       "      <td>5493 Jones Islands\\nBrownside, CA 51896</td>\n",
       "    </tr>\n",
       "    <tr>\n",
       "      <th>1</th>\n",
       "      <td>True</td>\n",
       "      <td>[{'orderId': 'nlghpa', 'orderAmount': 45, 'ord...</td>\n",
       "      <td>[{'paymentMethodId': 'y3xp697jx', 'paymentMeth...</td>\n",
       "      <td>[{'transactionId': '5mi94sfw', 'orderId': 'nlg...</td>\n",
       "      <td>evansjeffery@yahoo.com</td>\n",
       "      <td>1-788-091-7546</td>\n",
       "      <td>r0jpm7xaeqqa3kr6mzum</td>\n",
       "      <td>219.173.211.202</td>\n",
       "      <td>356 Elizabeth Inlet Suite 120\\nPort Joshuabury...</td>\n",
       "    </tr>\n",
       "    <tr>\n",
       "      <th>2</th>\n",
       "      <td>False</td>\n",
       "      <td>[{'orderId': 'yk34y2', 'orderAmount': 33, 'ord...</td>\n",
       "      <td>[{'paymentMethodId': '8pneoi03z', 'paymentMeth...</td>\n",
       "      <td>[{'transactionId': 'q3lyvbza', 'orderId': 'yk3...</td>\n",
       "      <td>andersonwilliam@yahoo.com</td>\n",
       "      <td>024.420.0375</td>\n",
       "      <td>4m7h5ipl1shyavt6vv2r</td>\n",
       "      <td>67b7:3db8:67e0:3bea:b9d0:90c1:2b60:b9f0</td>\n",
       "      <td>8478 Sean Ridges Apt. 441\\nDavisberg, PR 72250</td>\n",
       "    </tr>\n",
       "    <tr>\n",
       "      <th>3</th>\n",
       "      <td>False</td>\n",
       "      <td>[{'orderId': 'fbz9ep', 'orderAmount': 34, 'ord...</td>\n",
       "      <td>[{'paymentMethodId': 'pdxjdwui4', 'paymentMeth...</td>\n",
       "      <td>[{'transactionId': 'vx4cjc27', 'orderId': 'fbz...</td>\n",
       "      <td>rubenjuarez@yahoo.com</td>\n",
       "      <td>670.664.8168x94985</td>\n",
       "      <td>slovx60t0i558may4ks0</td>\n",
       "      <td>95de:8565:5a66:792c:26e0:6cfb:7d87:11af</td>\n",
       "      <td>7769 Elizabeth Bridge Apt. 343\\nNortonstad, FM...</td>\n",
       "    </tr>\n",
       "    <tr>\n",
       "      <th>4</th>\n",
       "      <td>True</td>\n",
       "      <td>[{'orderId': '56h7iw', 'orderAmount': 71, 'ord...</td>\n",
       "      <td>[{'paymentMethodId': 'w1i1zq3rg', 'paymentMeth...</td>\n",
       "      <td>[{'transactionId': 'q8j3dgni', 'orderId': '56h...</td>\n",
       "      <td>uchen@malone.com</td>\n",
       "      <td>1-981-877-0870</td>\n",
       "      <td>j0pd24k5h8dl2fqu0cz4</td>\n",
       "      <td>196.89.235.192</td>\n",
       "      <td>148 Russell Lodge Apt. 445\\nPort Jenniferside,...</td>\n",
       "    </tr>\n",
       "  </tbody>\n",
       "</table>\n",
       "</div>"
      ],
      "text/plain": [
       "   fraudulent                                             orders  \\\n",
       "0       False  [{'orderId': 'vjbdvd', 'orderAmount': 18, 'ord...   \n",
       "1        True  [{'orderId': 'nlghpa', 'orderAmount': 45, 'ord...   \n",
       "2       False  [{'orderId': 'yk34y2', 'orderAmount': 33, 'ord...   \n",
       "3       False  [{'orderId': 'fbz9ep', 'orderAmount': 34, 'ord...   \n",
       "4        True  [{'orderId': '56h7iw', 'orderAmount': 71, 'ord...   \n",
       "\n",
       "                                      paymentMethods  \\\n",
       "0  [{'paymentMethodId': 'wt07xm68b', 'paymentMeth...   \n",
       "1  [{'paymentMethodId': 'y3xp697jx', 'paymentMeth...   \n",
       "2  [{'paymentMethodId': '8pneoi03z', 'paymentMeth...   \n",
       "3  [{'paymentMethodId': 'pdxjdwui4', 'paymentMeth...   \n",
       "4  [{'paymentMethodId': 'w1i1zq3rg', 'paymentMeth...   \n",
       "\n",
       "                                        transactions  \\\n",
       "0  [{'transactionId': 'a9lcj51r', 'orderId': 'vjb...   \n",
       "1  [{'transactionId': '5mi94sfw', 'orderId': 'nlg...   \n",
       "2  [{'transactionId': 'q3lyvbza', 'orderId': 'yk3...   \n",
       "3  [{'transactionId': 'vx4cjc27', 'orderId': 'fbz...   \n",
       "4  [{'transactionId': 'q8j3dgni', 'orderId': '56h...   \n",
       "\n",
       "      customer.customerEmail customer.customerPhone customer.customerDevice  \\\n",
       "0     josephhoward@yahoo.com           400-108-5415    yyeiaxpltf82440jnb3v   \n",
       "1     evansjeffery@yahoo.com         1-788-091-7546    r0jpm7xaeqqa3kr6mzum   \n",
       "2  andersonwilliam@yahoo.com           024.420.0375    4m7h5ipl1shyavt6vv2r   \n",
       "3      rubenjuarez@yahoo.com     670.664.8168x94985    slovx60t0i558may4ks0   \n",
       "4           uchen@malone.com         1-981-877-0870    j0pd24k5h8dl2fqu0cz4   \n",
       "\n",
       "                customer.customerIPAddress  \\\n",
       "0                             8.129.104.40   \n",
       "1                          219.173.211.202   \n",
       "2  67b7:3db8:67e0:3bea:b9d0:90c1:2b60:b9f0   \n",
       "3  95de:8565:5a66:792c:26e0:6cfb:7d87:11af   \n",
       "4                           196.89.235.192   \n",
       "\n",
       "                     customer.customerBillingAddress  \n",
       "0            5493 Jones Islands\\nBrownside, CA 51896  \n",
       "1  356 Elizabeth Inlet Suite 120\\nPort Joshuabury...  \n",
       "2     8478 Sean Ridges Apt. 441\\nDavisberg, PR 72250  \n",
       "3  7769 Elizabeth Bridge Apt. 343\\nNortonstad, FM...  \n",
       "4  148 Russell Lodge Apt. 445\\nPort Jenniferside,...  "
      ]
     },
     "execution_count": 6,
     "metadata": {},
     "output_type": "execute_result"
    }
   ],
   "source": [
    "customers.head()"
   ]
  },
  {
   "cell_type": "markdown",
   "id": "f3835bfb",
   "metadata": {},
   "source": [
    "### 1. Exploring variables: determine the units of observation"
   ]
  },
  {
   "cell_type": "code",
   "execution_count": 7,
   "id": "e4270288",
   "metadata": {},
   "outputs": [
    {
     "data": {
      "text/plain": [
       "161"
      ]
     },
     "execution_count": 7,
     "metadata": {},
     "output_type": "execute_result"
    }
   ],
   "source": [
    "len(customers['customer.customerEmail'].unique())"
   ]
  },
  {
   "cell_type": "code",
   "execution_count": 8,
   "id": "217dd4fb",
   "metadata": {},
   "outputs": [
    {
     "data": {
      "text/plain": [
       "[('fraudulent', numpy.bool_),\n",
       " ('orders', list),\n",
       " ('paymentMethods', list),\n",
       " ('transactions', list),\n",
       " ('customer.customerEmail', str),\n",
       " ('customer.customerPhone', str),\n",
       " ('customer.customerDevice', str),\n",
       " ('customer.customerIPAddress', str),\n",
       " ('customer.customerBillingAddress', str)]"
      ]
     },
     "execution_count": 8,
     "metadata": {},
     "output_type": "execute_result"
    }
   ],
   "source": [
    "[(c, type(customers.loc[0,c])) for c in customers.columns]"
   ]
  },
  {
   "cell_type": "code",
   "execution_count": 9,
   "id": "2e31dbe5",
   "metadata": {},
   "outputs": [
    {
     "name": "stdout",
     "output_type": "stream",
     "text": [
      "Fraud:  61 \n",
      "Non-fraud:  107\n"
     ]
    }
   ],
   "source": [
    "print('Fraud: ', len(customers[customers['fraudulent']==True]), '\\nNon-fraud: ', len(customers[customers['fraudulent']==False]))"
   ]
  },
  {
   "cell_type": "markdown",
   "id": "45293503",
   "metadata": {},
   "source": [
    "Find out how the variables relate to one another. Dictionary keys must be linked."
   ]
  },
  {
   "cell_type": "code",
   "execution_count": 10,
   "id": "68ccb1a1",
   "metadata": {},
   "outputs": [
    {
     "name": "stdout",
     "output_type": "stream",
     "text": [
      "dict_keys(['orderId', 'orderAmount', 'orderState', 'orderShippingAddress'])\n"
     ]
    }
   ],
   "source": [
    "print(customers.loc[0, 'orders'][0].keys())"
   ]
  },
  {
   "cell_type": "code",
   "execution_count": 11,
   "id": "ce6442be",
   "metadata": {},
   "outputs": [
    {
     "name": "stdout",
     "output_type": "stream",
     "text": [
      "dict_keys(['transactionId', 'orderId', 'paymentMethodId', 'transactionAmount', 'transactionFailed'])\n"
     ]
    }
   ],
   "source": [
    "print(customers.loc[0, 'transactions'][0].keys())"
   ]
  },
  {
   "cell_type": "code",
   "execution_count": 12,
   "id": "e495941f",
   "metadata": {},
   "outputs": [
    {
     "name": "stdout",
     "output_type": "stream",
     "text": [
      "dict_keys(['paymentMethodId', 'paymentMethodRegistrationFailure', 'paymentMethodType', 'paymentMethodProvider', 'paymentMethodIssuer'])\n"
     ]
    }
   ],
   "source": [
    "print(customers.loc[0, 'paymentMethods'][0].keys())"
   ]
  },
  {
   "cell_type": "markdown",
   "id": "75a899c0",
   "metadata": {},
   "source": [
    "Each order is related to a transaction through 'orderId'. Each payment method is related to a transaction through paymentMethodId."
   ]
  },
  {
   "cell_type": "markdown",
   "id": "932515ec",
   "metadata": {},
   "source": [
    "The units of observation shall be transactions. Create a dataframe where each transaction is a row."
   ]
  },
  {
   "cell_type": "code",
   "execution_count": 13,
   "id": "6718be33",
   "metadata": {},
   "outputs": [
    {
     "name": "stderr",
     "output_type": "stream",
     "text": [
      "168it [00:01, 160.10it/s]\n"
     ]
    }
   ],
   "source": [
    "transactions = pd.DataFrame()\n",
    "\n",
    "for row,val in tqdm(customers.iterrows()):\n",
    "    \n",
    "    transaction_list = customers.loc[row, 'transactions']\n",
    "    order_list = customers.loc[row, 'orders']\n",
    "    payment_list = customers.loc[row, 'paymentMethods']\n",
    "    \n",
    "    #each transaction will be a row - find the corresponding info\n",
    "    for t in transaction_list:\n",
    "        \n",
    "        cust_info = pd.DataFrame(val).T.reset_index(drop=True)\n",
    "        trans_info = pd.DataFrame.from_dict({k:v for k,v in t.items()}, orient='index').T\n",
    "       \n",
    "    \n",
    "        #identify the corresponding order\n",
    "        try:\n",
    "            this_order = [o for o in order_list if o.get('orderId')==t.get('orderId')][0]\n",
    "            order_info = pd.DataFrame.from_dict({k:v for k,v in this_order.items()}, orient='index').T\n",
    "        except:\n",
    "            order_info = pd.DataFrame(data={'orderId':[None], \n",
    "                                            'orderAmount':[None], \n",
    "                                            'orderState':[None], \n",
    "                                            'orderShippingAddress':[None]})\n",
    "    \n",
    "        \n",
    "        #identify the corresponding payment info\n",
    "        try:\n",
    "            this_payment = [p for p in payment_list if p.get('paymentMethodId')==t.get('paymentMethodId')][0]\n",
    "            payment_info = pd.DataFrame.from_dict({k:v for k,v in this_payment.items()}, orient='index').T\n",
    "        except:\n",
    "            payment_info = pd.DataFrame(data={'paymentMethodId':[None], \n",
    "                                              'paymentMethodRegistrationFailure':[None], \n",
    "                                              'paymentMethodType':[None], \n",
    "                                              'paymentMethodProvider':[None], \n",
    "                                              'paymentMethodIssuer':None})\n",
    "        \n",
    "            \n",
    "        #join them\n",
    "        newrow = pd.concat([cust_info, trans_info, order_info, payment_info], axis=1)\n",
    "        newrow = newrow.loc[:, ~newrow.columns.duplicated()]\n",
    "        transactions = transactions.append(newrow).reset_index(drop=True)\n",
    "        \n",
    "        \n",
    "transactions = transactions.drop(['orders', 'paymentMethods', 'transactions', 'orderAmount'], axis=1)"
   ]
  },
  {
   "cell_type": "code",
   "execution_count": 14,
   "id": "d1803073",
   "metadata": {},
   "outputs": [
    {
     "data": {
      "text/html": [
       "<div>\n",
       "<style scoped>\n",
       "    .dataframe tbody tr th:only-of-type {\n",
       "        vertical-align: middle;\n",
       "    }\n",
       "\n",
       "    .dataframe tbody tr th {\n",
       "        vertical-align: top;\n",
       "    }\n",
       "\n",
       "    .dataframe thead th {\n",
       "        text-align: right;\n",
       "    }\n",
       "</style>\n",
       "<table border=\"1\" class=\"dataframe\">\n",
       "  <thead>\n",
       "    <tr style=\"text-align: right;\">\n",
       "      <th></th>\n",
       "      <th>fraudulent</th>\n",
       "      <th>customer.customerEmail</th>\n",
       "      <th>customer.customerPhone</th>\n",
       "      <th>customer.customerDevice</th>\n",
       "      <th>customer.customerIPAddress</th>\n",
       "      <th>customer.customerBillingAddress</th>\n",
       "      <th>transactionId</th>\n",
       "      <th>orderId</th>\n",
       "      <th>paymentMethodId</th>\n",
       "      <th>transactionAmount</th>\n",
       "      <th>transactionFailed</th>\n",
       "      <th>orderState</th>\n",
       "      <th>orderShippingAddress</th>\n",
       "      <th>paymentMethodRegistrationFailure</th>\n",
       "      <th>paymentMethodType</th>\n",
       "      <th>paymentMethodProvider</th>\n",
       "      <th>paymentMethodIssuer</th>\n",
       "    </tr>\n",
       "  </thead>\n",
       "  <tbody>\n",
       "    <tr>\n",
       "      <th>0</th>\n",
       "      <td>False</td>\n",
       "      <td>josephhoward@yahoo.com</td>\n",
       "      <td>400-108-5415</td>\n",
       "      <td>yyeiaxpltf82440jnb3v</td>\n",
       "      <td>8.129.104.40</td>\n",
       "      <td>5493 Jones Islands\\nBrownside, CA 51896</td>\n",
       "      <td>a9lcj51r</td>\n",
       "      <td>vjbdvd</td>\n",
       "      <td>wt07xm68b</td>\n",
       "      <td>18</td>\n",
       "      <td>False</td>\n",
       "      <td>pending</td>\n",
       "      <td>5493 Jones Islands\\nBrownside, CA 51896</td>\n",
       "      <td>True</td>\n",
       "      <td>card</td>\n",
       "      <td>JCB 16 digit</td>\n",
       "      <td>Citizens First Banks</td>\n",
       "    </tr>\n",
       "    <tr>\n",
       "      <th>1</th>\n",
       "      <td>False</td>\n",
       "      <td>josephhoward@yahoo.com</td>\n",
       "      <td>400-108-5415</td>\n",
       "      <td>yyeiaxpltf82440jnb3v</td>\n",
       "      <td>8.129.104.40</td>\n",
       "      <td>5493 Jones Islands\\nBrownside, CA 51896</td>\n",
       "      <td>y4wcv03i</td>\n",
       "      <td>yp6x27</td>\n",
       "      <td>wt07xm68b</td>\n",
       "      <td>26</td>\n",
       "      <td>False</td>\n",
       "      <td>fulfilled</td>\n",
       "      <td>5493 Jones Islands\\nBrownside, CA 51896</td>\n",
       "      <td>True</td>\n",
       "      <td>card</td>\n",
       "      <td>JCB 16 digit</td>\n",
       "      <td>Citizens First Banks</td>\n",
       "    </tr>\n",
       "    <tr>\n",
       "      <th>2</th>\n",
       "      <td>True</td>\n",
       "      <td>evansjeffery@yahoo.com</td>\n",
       "      <td>1-788-091-7546</td>\n",
       "      <td>r0jpm7xaeqqa3kr6mzum</td>\n",
       "      <td>219.173.211.202</td>\n",
       "      <td>356 Elizabeth Inlet Suite 120\\nPort Joshuabury...</td>\n",
       "      <td>5mi94sfw</td>\n",
       "      <td>nlghpa</td>\n",
       "      <td>41ug157xz</td>\n",
       "      <td>45</td>\n",
       "      <td>False</td>\n",
       "      <td>fulfilled</td>\n",
       "      <td>898 Henry Ports\\nNew Keithview, CA 95893-2497</td>\n",
       "      <td>False</td>\n",
       "      <td>bitcoin</td>\n",
       "      <td>American Express</td>\n",
       "      <td>Bastion Banks</td>\n",
       "    </tr>\n",
       "    <tr>\n",
       "      <th>3</th>\n",
       "      <td>True</td>\n",
       "      <td>evansjeffery@yahoo.com</td>\n",
       "      <td>1-788-091-7546</td>\n",
       "      <td>r0jpm7xaeqqa3kr6mzum</td>\n",
       "      <td>219.173.211.202</td>\n",
       "      <td>356 Elizabeth Inlet Suite 120\\nPort Joshuabury...</td>\n",
       "      <td>br8ba1nu</td>\n",
       "      <td>uw0eeb</td>\n",
       "      <td>41ug157xz</td>\n",
       "      <td>23</td>\n",
       "      <td>False</td>\n",
       "      <td>fulfilled</td>\n",
       "      <td>356 Elizabeth Inlet Suite 120\\nPort Joshuabury...</td>\n",
       "      <td>False</td>\n",
       "      <td>bitcoin</td>\n",
       "      <td>American Express</td>\n",
       "      <td>Bastion Banks</td>\n",
       "    </tr>\n",
       "    <tr>\n",
       "      <th>4</th>\n",
       "      <td>True</td>\n",
       "      <td>evansjeffery@yahoo.com</td>\n",
       "      <td>1-788-091-7546</td>\n",
       "      <td>r0jpm7xaeqqa3kr6mzum</td>\n",
       "      <td>219.173.211.202</td>\n",
       "      <td>356 Elizabeth Inlet Suite 120\\nPort Joshuabury...</td>\n",
       "      <td>a33145ss</td>\n",
       "      <td>bn44oh</td>\n",
       "      <td>y3xp697jx</td>\n",
       "      <td>43</td>\n",
       "      <td>True</td>\n",
       "      <td>fulfilled</td>\n",
       "      <td>5093 Bryan Forks\\nJoshuaton, FM 01565-9801</td>\n",
       "      <td>True</td>\n",
       "      <td>bitcoin</td>\n",
       "      <td>VISA 16 digit</td>\n",
       "      <td>Solace Banks</td>\n",
       "    </tr>\n",
       "  </tbody>\n",
       "</table>\n",
       "</div>"
      ],
      "text/plain": [
       "  fraudulent  customer.customerEmail customer.customerPhone  \\\n",
       "0      False  josephhoward@yahoo.com           400-108-5415   \n",
       "1      False  josephhoward@yahoo.com           400-108-5415   \n",
       "2       True  evansjeffery@yahoo.com         1-788-091-7546   \n",
       "3       True  evansjeffery@yahoo.com         1-788-091-7546   \n",
       "4       True  evansjeffery@yahoo.com         1-788-091-7546   \n",
       "\n",
       "  customer.customerDevice customer.customerIPAddress  \\\n",
       "0    yyeiaxpltf82440jnb3v               8.129.104.40   \n",
       "1    yyeiaxpltf82440jnb3v               8.129.104.40   \n",
       "2    r0jpm7xaeqqa3kr6mzum            219.173.211.202   \n",
       "3    r0jpm7xaeqqa3kr6mzum            219.173.211.202   \n",
       "4    r0jpm7xaeqqa3kr6mzum            219.173.211.202   \n",
       "\n",
       "                     customer.customerBillingAddress transactionId orderId  \\\n",
       "0            5493 Jones Islands\\nBrownside, CA 51896      a9lcj51r  vjbdvd   \n",
       "1            5493 Jones Islands\\nBrownside, CA 51896      y4wcv03i  yp6x27   \n",
       "2  356 Elizabeth Inlet Suite 120\\nPort Joshuabury...      5mi94sfw  nlghpa   \n",
       "3  356 Elizabeth Inlet Suite 120\\nPort Joshuabury...      br8ba1nu  uw0eeb   \n",
       "4  356 Elizabeth Inlet Suite 120\\nPort Joshuabury...      a33145ss  bn44oh   \n",
       "\n",
       "  paymentMethodId transactionAmount transactionFailed orderState  \\\n",
       "0       wt07xm68b                18             False    pending   \n",
       "1       wt07xm68b                26             False  fulfilled   \n",
       "2       41ug157xz                45             False  fulfilled   \n",
       "3       41ug157xz                23             False  fulfilled   \n",
       "4       y3xp697jx                43              True  fulfilled   \n",
       "\n",
       "                                orderShippingAddress  \\\n",
       "0            5493 Jones Islands\\nBrownside, CA 51896   \n",
       "1            5493 Jones Islands\\nBrownside, CA 51896   \n",
       "2      898 Henry Ports\\nNew Keithview, CA 95893-2497   \n",
       "3  356 Elizabeth Inlet Suite 120\\nPort Joshuabury...   \n",
       "4         5093 Bryan Forks\\nJoshuaton, FM 01565-9801   \n",
       "\n",
       "  paymentMethodRegistrationFailure paymentMethodType paymentMethodProvider  \\\n",
       "0                             True              card          JCB 16 digit   \n",
       "1                             True              card          JCB 16 digit   \n",
       "2                            False           bitcoin      American Express   \n",
       "3                            False           bitcoin      American Express   \n",
       "4                             True           bitcoin         VISA 16 digit   \n",
       "\n",
       "    paymentMethodIssuer  \n",
       "0  Citizens First Banks  \n",
       "1  Citizens First Banks  \n",
       "2         Bastion Banks  \n",
       "3         Bastion Banks  \n",
       "4          Solace Banks  "
      ]
     },
     "execution_count": 14,
     "metadata": {},
     "output_type": "execute_result"
    }
   ],
   "source": [
    "transactions.head()"
   ]
  },
  {
   "cell_type": "code",
   "execution_count": 15,
   "id": "593b29bc",
   "metadata": {},
   "outputs": [],
   "source": [
    "os.chdir(preproc)\n",
    "transactions.to_csv('transactions.csv')"
   ]
  },
  {
   "cell_type": "code",
   "execution_count": 16,
   "id": "65afa50b",
   "metadata": {},
   "outputs": [
    {
     "data": {
      "text/plain": [
       "(623, 17)"
      ]
     },
     "execution_count": 16,
     "metadata": {},
     "output_type": "execute_result"
    }
   ],
   "source": [
    "transactions.shape"
   ]
  },
  {
   "cell_type": "code",
   "execution_count": 17,
   "id": "8e8ac005",
   "metadata": {},
   "outputs": [
    {
     "data": {
      "text/plain": [
       "Index(['fraudulent', 'customer.customerEmail', 'customer.customerPhone',\n",
       "       'customer.customerDevice', 'customer.customerIPAddress',\n",
       "       'customer.customerBillingAddress', 'transactionId', 'orderId',\n",
       "       'paymentMethodId', 'transactionAmount', 'transactionFailed',\n",
       "       'orderState', 'orderShippingAddress',\n",
       "       'paymentMethodRegistrationFailure', 'paymentMethodType',\n",
       "       'paymentMethodProvider', 'paymentMethodIssuer'],\n",
       "      dtype='object')"
      ]
     },
     "execution_count": 17,
     "metadata": {},
     "output_type": "execute_result"
    }
   ],
   "source": [
    "transactions.columns"
   ]
  },
  {
   "cell_type": "markdown",
   "id": "46e5baaa",
   "metadata": {},
   "source": [
    "## 2. Visual exploration"
   ]
  },
  {
   "cell_type": "markdown",
   "id": "ee1400a3",
   "metadata": {},
   "source": [
    "### 2.1. Payment methods: Are some payment methods associated with more fraudulent activity?"
   ]
  },
  {
   "cell_type": "code",
   "execution_count": 18,
   "id": "3074fc98",
   "metadata": {},
   "outputs": [
    {
     "data": {
      "text/html": [
       "<div>\n",
       "<style scoped>\n",
       "    .dataframe tbody tr th:only-of-type {\n",
       "        vertical-align: middle;\n",
       "    }\n",
       "\n",
       "    .dataframe tbody tr th {\n",
       "        vertical-align: top;\n",
       "    }\n",
       "\n",
       "    .dataframe thead th {\n",
       "        text-align: right;\n",
       "    }\n",
       "</style>\n",
       "<table border=\"1\" class=\"dataframe\">\n",
       "  <thead>\n",
       "    <tr style=\"text-align: right;\">\n",
       "      <th></th>\n",
       "      <th>fraudulent</th>\n",
       "      <th>paymentMethodType</th>\n",
       "      <th>Count</th>\n",
       "      <th>Percentage</th>\n",
       "    </tr>\n",
       "  </thead>\n",
       "  <tbody>\n",
       "    <tr>\n",
       "      <th>0</th>\n",
       "      <td>False</td>\n",
       "      <td>card</td>\n",
       "      <td>276</td>\n",
       "      <td>0.754098</td>\n",
       "    </tr>\n",
       "    <tr>\n",
       "      <th>1</th>\n",
       "      <td>False</td>\n",
       "      <td>paypal</td>\n",
       "      <td>40</td>\n",
       "      <td>0.109290</td>\n",
       "    </tr>\n",
       "    <tr>\n",
       "      <th>2</th>\n",
       "      <td>False</td>\n",
       "      <td>apple pay</td>\n",
       "      <td>27</td>\n",
       "      <td>0.073770</td>\n",
       "    </tr>\n",
       "    <tr>\n",
       "      <th>3</th>\n",
       "      <td>False</td>\n",
       "      <td>bitcoin</td>\n",
       "      <td>23</td>\n",
       "      <td>0.062842</td>\n",
       "    </tr>\n",
       "    <tr>\n",
       "      <th>4</th>\n",
       "      <td>True</td>\n",
       "      <td>card</td>\n",
       "      <td>203</td>\n",
       "      <td>0.789883</td>\n",
       "    </tr>\n",
       "  </tbody>\n",
       "</table>\n",
       "</div>"
      ],
      "text/plain": [
       "   fraudulent paymentMethodType  Count  Percentage\n",
       "0       False              card    276    0.754098\n",
       "1       False            paypal     40    0.109290\n",
       "2       False         apple pay     27    0.073770\n",
       "3       False           bitcoin     23    0.062842\n",
       "4        True              card    203    0.789883"
      ]
     },
     "execution_count": 18,
     "metadata": {},
     "output_type": "execute_result"
    }
   ],
   "source": [
    "#Get the payment methods used in the two classes\n",
    "\n",
    "methods = transactions.groupby('fraudulent')['paymentMethodType'].value_counts()\n",
    "methods = methods.to_frame().rename(columns={'paymentMethodType':'Count'}).reset_index(drop=False)\n",
    "\n",
    "#Convert to percentages\n",
    "numfraud = len(transactions[transactions.fraudulent==True])\n",
    "numnonfraud = len(transactions) - numfraud\n",
    "\n",
    "methods['Percentage'] = methods.apply(lambda x: x['Count']/numfraud if x['fraudulent']==True else x['Count']/numnonfraud, axis=1)\n",
    "methods.head()"
   ]
  },
  {
   "cell_type": "code",
   "execution_count": 19,
   "id": "e91cf181",
   "metadata": {},
   "outputs": [
    {
     "data": {
      "image/png": "[encoded data removed]",
      "text/plain": [
       "<Figure size 648x432 with 1 Axes>"
      ]
     },
     "metadata": {},
     "output_type": "display_data"
    }
   ],
   "source": [
    "os.chdir(viz)\n",
    "\n",
    "sns.set_style('whitegrid')\n",
    "plt.figure(figsize=(9,6))\n",
    "bar = sns.barplot(x='paymentMethodType',  y='Percentage', data=methods, hue='fraudulent', palette=[(0, 0.5, 1), (0.8, 0, 0.1)])\n",
    "plt.ylabel('% of payments made with this method\\n', fontsize=14)\n",
    "plt.ylim([0, 1])\n",
    "plt.xlabel('')\n",
    "plt.xticks(fontsize=14, rotation=70)\n",
    "plt.title(('Payment methods\\n'), fontsize = 16)\n",
    "plt.tight_layout() \n",
    "\n",
    "plt.savefig('payment_methods.pdf')"
   ]
  },
  {
   "cell_type": "markdown",
   "id": "65d5201e",
   "metadata": {},
   "source": [
    "Paypal seems to be safer than the other methods, whereas bitcoin carries slightly more risk."
   ]
  },
  {
   "cell_type": "markdown",
   "id": "15b9841a",
   "metadata": {},
   "source": [
    "### 2.2. Payment providers: Are some providers more at risk of fraudulent activity?"
   ]
  },
  {
   "cell_type": "code",
   "execution_count": 20,
   "id": "691090f7",
   "metadata": {},
   "outputs": [
    {
     "data": {
      "text/html": [
       "<div>\n",
       "<style scoped>\n",
       "    .dataframe tbody tr th:only-of-type {\n",
       "        vertical-align: middle;\n",
       "    }\n",
       "\n",
       "    .dataframe tbody tr th {\n",
       "        vertical-align: top;\n",
       "    }\n",
       "\n",
       "    .dataframe thead th {\n",
       "        text-align: right;\n",
       "    }\n",
       "</style>\n",
       "<table border=\"1\" class=\"dataframe\">\n",
       "  <thead>\n",
       "    <tr style=\"text-align: right;\">\n",
       "      <th></th>\n",
       "      <th>fraudulent</th>\n",
       "      <th>paymentMethodProvider</th>\n",
       "      <th>Count</th>\n",
       "      <th>Percentage</th>\n",
       "    </tr>\n",
       "  </thead>\n",
       "  <tbody>\n",
       "    <tr>\n",
       "      <th>0</th>\n",
       "      <td>False</td>\n",
       "      <td>JCB 16 digit</td>\n",
       "      <td>67</td>\n",
       "      <td>0.183060</td>\n",
       "    </tr>\n",
       "    <tr>\n",
       "      <th>1</th>\n",
       "      <td>False</td>\n",
       "      <td>Maestro</td>\n",
       "      <td>53</td>\n",
       "      <td>0.144809</td>\n",
       "    </tr>\n",
       "    <tr>\n",
       "      <th>2</th>\n",
       "      <td>False</td>\n",
       "      <td>VISA 16 digit</td>\n",
       "      <td>51</td>\n",
       "      <td>0.139344</td>\n",
       "    </tr>\n",
       "    <tr>\n",
       "      <th>3</th>\n",
       "      <td>False</td>\n",
       "      <td>Diners Club / Carte Blanche</td>\n",
       "      <td>38</td>\n",
       "      <td>0.103825</td>\n",
       "    </tr>\n",
       "    <tr>\n",
       "      <th>4</th>\n",
       "      <td>False</td>\n",
       "      <td>JCB 15 digit</td>\n",
       "      <td>31</td>\n",
       "      <td>0.084699</td>\n",
       "    </tr>\n",
       "  </tbody>\n",
       "</table>\n",
       "</div>"
      ],
      "text/plain": [
       "   fraudulent        paymentMethodProvider  Count  Percentage\n",
       "0       False                 JCB 16 digit     67    0.183060\n",
       "1       False                      Maestro     53    0.144809\n",
       "2       False                VISA 16 digit     51    0.139344\n",
       "3       False  Diners Club / Carte Blanche     38    0.103825\n",
       "4       False                 JCB 15 digit     31    0.084699"
      ]
     },
     "execution_count": 20,
     "metadata": {},
     "output_type": "execute_result"
    }
   ],
   "source": [
    "#Get the payment method provider used in the two classes\n",
    "providers = transactions.groupby('fraudulent')['paymentMethodProvider'].value_counts()\n",
    "providers = providers.to_frame().rename(columns={'paymentMethodProvider':'Count'}).reset_index(drop=False)\n",
    "\n",
    "#Convert to percentages\n",
    "numfraud = len(transactions[transactions.fraudulent==True])\n",
    "numnonfraud = len(transactions) - numfraud\n",
    "\n",
    "providers['Percentage'] = providers.apply(lambda x: x['Count']/numfraud if x['fraudulent']==True else x['Count']/numnonfraud, axis=1)\n",
    "providers.head()"
   ]
  },
  {
   "cell_type": "code",
   "execution_count": 21,
   "id": "48b8a1b1",
   "metadata": {},
   "outputs": [
    {
     "data": {
      "image/png": "[encoded data removed]",
      "text/plain": [
       "<Figure size 648x432 with 1 Axes>"
      ]
     },
     "metadata": {},
     "output_type": "display_data"
    }
   ],
   "source": [
    "os.chdir(viz)\n",
    "\n",
    "plt.figure(figsize=(9,6))\n",
    "bar = sns.barplot(x='paymentMethodProvider',  y='Percentage', data=providers, hue='fraudulent', palette=[(0, 0.5, 1), (0.8, 0, 0.1)])\n",
    "plt.ylabel('% of payments carried out with this provider\\n', fontsize=14)\n",
    "plt.ylim([0, 1])\n",
    "plt.xlabel('')\n",
    "plt.xticks(fontsize=12, rotation=70)\n",
    "plt.title(('Payment providers\\n'), fontsize = 16)\n",
    "plt.tight_layout() \n",
    "\n",
    "plt.savefig('payment_providers.pdf')"
   ]
  },
  {
   "cell_type": "markdown",
   "id": "5c718bd7",
   "metadata": {},
   "source": [
    "Payment provider might be a good predictor: less fraudulent activity with Maestrocard, more with Voyager."
   ]
  },
  {
   "cell_type": "markdown",
   "id": "78e85d5d",
   "metadata": {},
   "source": [
    "### 2.3. Are more expensive orders more likely to be fraudulent?"
   ]
  },
  {
   "cell_type": "code",
   "execution_count": 22,
   "id": "a849a05b",
   "metadata": {},
   "outputs": [
    {
     "name": "stdout",
     "output_type": "stream",
     "text": [
      "fraudulent\n",
      "False    29.049180\n",
      "True     42.501946\n",
      "Name: transactionAmount, dtype: float64\n"
     ]
    }
   ],
   "source": [
    "print(transactions.groupby('fraudulent')['transactionAmount'].mean())"
   ]
  },
  {
   "cell_type": "code",
   "execution_count": 23,
   "id": "7b281b72",
   "metadata": {},
   "outputs": [
    {
     "data": {
      "image/png": "[encoded data removed]",
      "text/plain": [
       "<Figure size 648x432 with 1 Axes>"
      ]
     },
     "metadata": {},
     "output_type": "display_data"
    }
   ],
   "source": [
    "os.chdir(viz)\n",
    "\n",
    "plt.figure(figsize=(9,6))\n",
    "\n",
    "box = sns.boxplot(x='fraudulent', y='transactionAmount', data=transactions, hue='fraudulent', palette=[(0, 0.5, 1), (0.8, 0, 0.1)])\n",
    "plt.ylabel('Average amount of transactions\\n', fontsize=14)\n",
    "plt.xlabel('\\nFraudulent', fontsize=14)\n",
    "plt.title(('Transaction amount\\n'), fontsize = 16)\n",
    "plt.tight_layout() \n",
    "\n",
    "plt.savefig('transaction_amounts.pdf')"
   ]
  },
  {
   "cell_type": "markdown",
   "id": "44c4ec72",
   "metadata": {},
   "source": [
    "Yes, fraudulent activity is associated with slightly higher transaction amounts, but this is probably not statistically significant (judging from the error bars)"
   ]
  },
  {
   "cell_type": "markdown",
   "id": "3d66563e",
   "metadata": {},
   "source": [
    "## 3. Feature engineering"
   ]
  },
  {
   "cell_type": "markdown",
   "id": "17cd84e8",
   "metadata": {},
   "source": [
    "### 3.1. Eliminate nominal variables with lots of unique values (e.g. an id number)"
   ]
  },
  {
   "cell_type": "code",
   "execution_count": 24,
   "id": "e0779c92",
   "metadata": {},
   "outputs": [
    {
     "name": "stdout",
     "output_type": "stream",
     "text": [
      "fraudulent   2 168\n",
      "customer.customerEmail   136 168\n",
      "customer.customerPhone   141 168\n",
      "customer.customerDevice   141 168\n",
      "customer.customerIPAddress   138 168\n",
      "customer.customerBillingAddress   139 168\n",
      "transactionId   623 168\n",
      "orderId   478 168\n",
      "paymentMethodId   237 168\n",
      "transactionAmount   67 168\n",
      "transactionFailed   2 168\n",
      "orderState   3 168\n",
      "orderShippingAddress   274 168\n",
      "paymentMethodRegistrationFailure   2 168\n",
      "paymentMethodType   4 168\n",
      "paymentMethodProvider   10 168\n",
      "paymentMethodIssuer   19 168\n"
     ]
    }
   ],
   "source": [
    "for c in transactions.columns:\n",
    "    print(c, ' ', len(transactions[c].unique()), len(customers))"
   ]
  },
  {
   "cell_type": "code",
   "execution_count": 25,
   "id": "ec22e669",
   "metadata": {},
   "outputs": [],
   "source": [
    "transactions = transactions.drop(['transactionId', 'orderId', 'paymentMethodId'], axis=1)"
   ]
  },
  {
   "cell_type": "markdown",
   "id": "25ba8337",
   "metadata": {},
   "source": [
    "### 3.2. Check for incongruities : the same email registered with multiple phone numbers, etc"
   ]
  },
  {
   "cell_type": "markdown",
   "id": "3db2be06",
   "metadata": {},
   "source": [
    "Flag transactions where personal data doesn't match or the shipping address is different from the billing address"
   ]
  },
  {
   "cell_type": "code",
   "execution_count": 26,
   "id": "7cf993e5",
   "metadata": {},
   "outputs": [],
   "source": [
    "match_personal = transactions.groupby('customer.customerEmail')[['customer.customerPhone', \n",
    "                                                                 'customer.customerBillingAddress', \n",
    "                                                                 'customer.customerIPAddress', \n",
    "                                                                 'customer.customerDevice']].apply(lambda x: x.nunique()).reset_index(drop=False)\n",
    "\n",
    "incongruous =  match_personal[(match_personal['customer.customerPhone'] > 1) |\n",
    "               (match_personal['customer.customerBillingAddress'] > 1) |\n",
    "               (match_personal['customer.customerIPAddress'] > 1) |\n",
    "               (match_personal['customer.customerDevice'] > 1)]\n",
    "\n",
    "emails = incongruous['customer.customerEmail'].tolist()\n",
    "\n",
    "conditions = [(transactions['customer.customerEmail'].isin(emails)),\n",
    "              (transactions['customer.customerBillingAddress']!=transactions['orderShippingAddress']),\n",
    "              ~(transactions['customer.customerEmail'].isin(emails))]\n",
    "values= [1, 1, 0]\n",
    "\n",
    "transactions['incongruity'] = np.select(conditions, values)"
   ]
  },
  {
   "cell_type": "code",
   "execution_count": 27,
   "id": "d4125a38",
   "metadata": {},
   "outputs": [],
   "source": [
    "#transactions[transactions['customer.customerEmail'].isin(emails)]"
   ]
  },
  {
   "cell_type": "markdown",
   "id": "1033f097",
   "metadata": {},
   "source": [
    "There was 1 customer who was registered with 6 different phones/addresses, ect and carried out 28 fraudulent transactions."
   ]
  },
  {
   "cell_type": "code",
   "execution_count": 28,
   "id": "5f76bf55",
   "metadata": {},
   "outputs": [],
   "source": [
    "transactions = transactions.drop(['customer.customerPhone', 'customer.customerEmail', 'customer.customerBillingAddress', 'customer.customerDevice', 'customer.customerIPAddress', 'orderShippingAddress'], axis=1)"
   ]
  },
  {
   "cell_type": "markdown",
   "id": "5bb05033",
   "metadata": {},
   "source": [
    "### 3.3. Encode categorical cariables"
   ]
  },
  {
   "cell_type": "code",
   "execution_count": 29,
   "id": "9ac188a0",
   "metadata": {},
   "outputs": [],
   "source": [
    "Y = transactions['fraudulent'].astype('category').cat.codes\n",
    "transactions = transactions.drop(['fraudulent'], axis=1)"
   ]
  },
  {
   "cell_type": "code",
   "execution_count": 30,
   "id": "1623cae9",
   "metadata": {},
   "outputs": [],
   "source": [
    "for col in transactions.columns:\n",
    "    \n",
    "    if col == 'transactionAmount':\n",
    "        pass\n",
    "    elif isinstance(transactions.loc[0, col], bool):\n",
    "        transactions[col] = transactions[col].astype('category').cat.codes\n",
    "    else:\n",
    "        cat_data = pd.get_dummies(transactions[col],prefix = col)\n",
    "        transactions = pd.concat([transactions, cat_data], axis = 1)\n",
    "        transactions = transactions.drop([col], axis=1)"
   ]
  },
  {
   "cell_type": "code",
   "execution_count": 31,
   "id": "b142fe16",
   "metadata": {},
   "outputs": [
    {
     "data": {
      "text/html": [
       "<div>\n",
       "<style scoped>\n",
       "    .dataframe tbody tr th:only-of-type {\n",
       "        vertical-align: middle;\n",
       "    }\n",
       "\n",
       "    .dataframe tbody tr th {\n",
       "        vertical-align: top;\n",
       "    }\n",
       "\n",
       "    .dataframe thead th {\n",
       "        text-align: right;\n",
       "    }\n",
       "</style>\n",
       "<table border=\"1\" class=\"dataframe\">\n",
       "  <thead>\n",
       "    <tr style=\"text-align: right;\">\n",
       "      <th></th>\n",
       "      <th>transactionAmount</th>\n",
       "      <th>transactionFailed</th>\n",
       "      <th>paymentMethodRegistrationFailure</th>\n",
       "      <th>orderState_failed</th>\n",
       "      <th>orderState_fulfilled</th>\n",
       "      <th>orderState_pending</th>\n",
       "      <th>paymentMethodType_apple pay</th>\n",
       "      <th>paymentMethodType_bitcoin</th>\n",
       "      <th>paymentMethodType_card</th>\n",
       "      <th>paymentMethodType_paypal</th>\n",
       "      <th>...</th>\n",
       "      <th>paymentMethodIssuer_a</th>\n",
       "      <th>paymentMethodIssuer_c</th>\n",
       "      <th>paymentMethodIssuer_e</th>\n",
       "      <th>paymentMethodIssuer_n</th>\n",
       "      <th>paymentMethodIssuer_o</th>\n",
       "      <th>paymentMethodIssuer_p</th>\n",
       "      <th>paymentMethodIssuer_r</th>\n",
       "      <th>paymentMethodIssuer_x</th>\n",
       "      <th>incongruity_0</th>\n",
       "      <th>incongruity_1</th>\n",
       "    </tr>\n",
       "  </thead>\n",
       "  <tbody>\n",
       "    <tr>\n",
       "      <th>0</th>\n",
       "      <td>18</td>\n",
       "      <td>0</td>\n",
       "      <td>1</td>\n",
       "      <td>0</td>\n",
       "      <td>0</td>\n",
       "      <td>1</td>\n",
       "      <td>0</td>\n",
       "      <td>0</td>\n",
       "      <td>1</td>\n",
       "      <td>0</td>\n",
       "      <td>...</td>\n",
       "      <td>0</td>\n",
       "      <td>0</td>\n",
       "      <td>0</td>\n",
       "      <td>0</td>\n",
       "      <td>0</td>\n",
       "      <td>0</td>\n",
       "      <td>0</td>\n",
       "      <td>0</td>\n",
       "      <td>1</td>\n",
       "      <td>0</td>\n",
       "    </tr>\n",
       "    <tr>\n",
       "      <th>1</th>\n",
       "      <td>26</td>\n",
       "      <td>0</td>\n",
       "      <td>1</td>\n",
       "      <td>0</td>\n",
       "      <td>1</td>\n",
       "      <td>0</td>\n",
       "      <td>0</td>\n",
       "      <td>0</td>\n",
       "      <td>1</td>\n",
       "      <td>0</td>\n",
       "      <td>...</td>\n",
       "      <td>0</td>\n",
       "      <td>0</td>\n",
       "      <td>0</td>\n",
       "      <td>0</td>\n",
       "      <td>0</td>\n",
       "      <td>0</td>\n",
       "      <td>0</td>\n",
       "      <td>0</td>\n",
       "      <td>1</td>\n",
       "      <td>0</td>\n",
       "    </tr>\n",
       "    <tr>\n",
       "      <th>2</th>\n",
       "      <td>45</td>\n",
       "      <td>0</td>\n",
       "      <td>0</td>\n",
       "      <td>0</td>\n",
       "      <td>1</td>\n",
       "      <td>0</td>\n",
       "      <td>0</td>\n",
       "      <td>1</td>\n",
       "      <td>0</td>\n",
       "      <td>0</td>\n",
       "      <td>...</td>\n",
       "      <td>0</td>\n",
       "      <td>0</td>\n",
       "      <td>0</td>\n",
       "      <td>0</td>\n",
       "      <td>0</td>\n",
       "      <td>0</td>\n",
       "      <td>0</td>\n",
       "      <td>0</td>\n",
       "      <td>0</td>\n",
       "      <td>1</td>\n",
       "    </tr>\n",
       "    <tr>\n",
       "      <th>3</th>\n",
       "      <td>23</td>\n",
       "      <td>0</td>\n",
       "      <td>0</td>\n",
       "      <td>0</td>\n",
       "      <td>1</td>\n",
       "      <td>0</td>\n",
       "      <td>0</td>\n",
       "      <td>1</td>\n",
       "      <td>0</td>\n",
       "      <td>0</td>\n",
       "      <td>...</td>\n",
       "      <td>0</td>\n",
       "      <td>0</td>\n",
       "      <td>0</td>\n",
       "      <td>0</td>\n",
       "      <td>0</td>\n",
       "      <td>0</td>\n",
       "      <td>0</td>\n",
       "      <td>0</td>\n",
       "      <td>1</td>\n",
       "      <td>0</td>\n",
       "    </tr>\n",
       "    <tr>\n",
       "      <th>4</th>\n",
       "      <td>43</td>\n",
       "      <td>1</td>\n",
       "      <td>1</td>\n",
       "      <td>0</td>\n",
       "      <td>1</td>\n",
       "      <td>0</td>\n",
       "      <td>0</td>\n",
       "      <td>1</td>\n",
       "      <td>0</td>\n",
       "      <td>0</td>\n",
       "      <td>...</td>\n",
       "      <td>0</td>\n",
       "      <td>0</td>\n",
       "      <td>0</td>\n",
       "      <td>0</td>\n",
       "      <td>0</td>\n",
       "      <td>0</td>\n",
       "      <td>0</td>\n",
       "      <td>0</td>\n",
       "      <td>0</td>\n",
       "      <td>1</td>\n",
       "    </tr>\n",
       "  </tbody>\n",
       "</table>\n",
       "<p>5 rows × 41 columns</p>\n",
       "</div>"
      ],
      "text/plain": [
       "  transactionAmount  transactionFailed  paymentMethodRegistrationFailure  \\\n",
       "0                18                  0                                 1   \n",
       "1                26                  0                                 1   \n",
       "2                45                  0                                 0   \n",
       "3                23                  0                                 0   \n",
       "4                43                  1                                 1   \n",
       "\n",
       "   orderState_failed  orderState_fulfilled  orderState_pending  \\\n",
       "0                  0                     0                   1   \n",
       "1                  0                     1                   0   \n",
       "2                  0                     1                   0   \n",
       "3                  0                     1                   0   \n",
       "4                  0                     1                   0   \n",
       "\n",
       "   paymentMethodType_apple pay  paymentMethodType_bitcoin  \\\n",
       "0                            0                          0   \n",
       "1                            0                          0   \n",
       "2                            0                          1   \n",
       "3                            0                          1   \n",
       "4                            0                          1   \n",
       "\n",
       "   paymentMethodType_card  paymentMethodType_paypal  ...  \\\n",
       "0                       1                         0  ...   \n",
       "1                       1                         0  ...   \n",
       "2                       0                         0  ...   \n",
       "3                       0                         0  ...   \n",
       "4                       0                         0  ...   \n",
       "\n",
       "   paymentMethodIssuer_a  paymentMethodIssuer_c  paymentMethodIssuer_e  \\\n",
       "0                      0                      0                      0   \n",
       "1                      0                      0                      0   \n",
       "2                      0                      0                      0   \n",
       "3                      0                      0                      0   \n",
       "4                      0                      0                      0   \n",
       "\n",
       "   paymentMethodIssuer_n  paymentMethodIssuer_o  paymentMethodIssuer_p  \\\n",
       "0                      0                      0                      0   \n",
       "1                      0                      0                      0   \n",
       "2                      0                      0                      0   \n",
       "3                      0                      0                      0   \n",
       "4                      0                      0                      0   \n",
       "\n",
       "   paymentMethodIssuer_r  paymentMethodIssuer_x  incongruity_0  incongruity_1  \n",
       "0                      0                      0              1              0  \n",
       "1                      0                      0              1              0  \n",
       "2                      0                      0              0              1  \n",
       "3                      0                      0              1              0  \n",
       "4                      0                      0              0              1  \n",
       "\n",
       "[5 rows x 41 columns]"
      ]
     },
     "execution_count": 31,
     "metadata": {},
     "output_type": "execute_result"
    }
   ],
   "source": [
    "transactions.head()"
   ]
  },
  {
   "cell_type": "markdown",
   "id": "23464513",
   "metadata": {},
   "source": [
    "## 4. Modelling"
   ]
  },
  {
   "cell_type": "markdown",
   "id": "ef1c38da",
   "metadata": {},
   "source": [
    "Supervised machine learning to predict whether a transaction is fraudulent. Using random forests, as it performs well with imbalanced data in my "
   ]
  },
  {
   "cell_type": "code",
   "execution_count": 34,
   "id": "fb793b99",
   "metadata": {},
   "outputs": [],
   "source": [
    "#Grid search best parameters\n",
    "\n",
    "X = transactions\n",
    "\n",
    "X_train, X_test, Y_train, Y_test = train_test_split(X, Y, test_size=0.33,  random_state = 101)\n",
    "\n",
    "# Number of trees in random forest\n",
    "n_estimators = sp_randint(1, 1000)\n",
    "\n",
    "#Number of features to consider at every split\n",
    "max_features = sp_randint(1, len(X.columns))\n",
    "\n",
    "# Minimum number of samples required to split a node\n",
    "min_samples_split = sp_randint(2,100)\n",
    "\n",
    "# Method of selecting samples for training each tree\n",
    "bootstrap = [True, False]\n",
    "\n",
    "# Create the random grid\n",
    "search_params = {'n_estimators': n_estimators,\n",
    "                 'max_features': max_features,\n",
    "                 'min_samples_split': min_samples_split,\n",
    "                 'bootstrap': bootstrap}\n",
    "\n",
    "grid_search=RandomizedSearchCV(RandomForestClassifier(class_weight='balanced'),\n",
    "                               n_iter=100,\n",
    "                               param_distributions=search_params,\n",
    "                               cv = RepeatedStratifiedKFold(n_splits=5, n_repeats=3, random_state=1),\n",
    "                               n_jobs=-1)"
   ]
  },
  {
   "cell_type": "code",
   "execution_count": 35,
   "id": "dd228bf1",
   "metadata": {},
   "outputs": [
    {
     "data": {
      "text/plain": [
       "RandomizedSearchCV(cv=RepeatedStratifiedKFold(n_repeats=3, n_splits=5, random_state=1),\n",
       "                   estimator=RandomForestClassifier(class_weight='balanced'),\n",
       "                   n_iter=100, n_jobs=-1,\n",
       "                   param_distributions={'bootstrap': [True, False],\n",
       "                                        'max_features': <scipy.stats._distn_infrastructure.rv_frozen object at 0x7ffab12d3f40>,\n",
       "                                        'min_samples_split': <scipy.stats._distn_infrastructure.rv_frozen object at 0x7ffaa3359370>,\n",
       "                                        'n_estimators': <scipy.stats._distn_infrastructure.rv_frozen object at 0x7ffab1307400>})"
      ]
     },
     "execution_count": 35,
     "metadata": {},
     "output_type": "execute_result"
    }
   ],
   "source": [
    "grid_search.fit(X_train,Y_train)"
   ]
  },
  {
   "cell_type": "code",
   "execution_count": 36,
   "id": "1c929a85",
   "metadata": {},
   "outputs": [
    {
     "name": "stdout",
     "output_type": "stream",
     "text": [
      "The best Params to use are \n",
      " {'bootstrap': False, 'max_features': 1, 'min_samples_split': 2, 'n_estimators': 149}\n",
      "Which gives the best cross validation score of 0.7970166379804934\n"
     ]
    }
   ],
   "source": [
    "print('The best Params to use are \\n', grid_search.best_params_ )\n",
    "print('Which gives the best cross validation score of', grid_search.best_score_ )"
   ]
  },
  {
   "cell_type": "code",
   "execution_count": 37,
   "id": "8950090d",
   "metadata": {},
   "outputs": [],
   "source": [
    "best_params = grid_search.best_params_\n",
    "random_forest = RandomForestClassifier(**best_params)\n",
    "\n",
    "best_model = grid_search.best_estimator_\n",
    "                        \n",
    "Y_pred = (best_model.predict_proba(X_test)[:,1] >= 0.4).astype(bool)\n",
    "#Y_pred = best_model.predict(X_test)"
   ]
  },
  {
   "cell_type": "code",
   "execution_count": 38,
   "id": "dc86073f",
   "metadata": {},
   "outputs": [
    {
     "name": "stdout",
     "output_type": "stream",
     "text": [
      "              precision    recall  f1-score   support\n",
      "\n",
      "           0       0.90      0.84      0.87       121\n",
      "           1       0.80      0.87      0.83        85\n",
      "\n",
      "    accuracy                           0.85       206\n",
      "   macro avg       0.85      0.86      0.85       206\n",
      "weighted avg       0.86      0.85      0.86       206\n",
      "\n"
     ]
    }
   ],
   "source": [
    "print(classification_report(Y_test, Y_pred))"
   ]
  },
  {
   "cell_type": "code",
   "execution_count": 39,
   "id": "43f52379",
   "metadata": {},
   "outputs": [
    {
     "name": "stdout",
     "output_type": "stream",
     "text": [
      "0.8543689320388349\n"
     ]
    }
   ],
   "source": [
    "print(accuracy_score(Y_test, Y_pred))"
   ]
  },
  {
   "cell_type": "markdown",
   "id": "ac43ccf5",
   "metadata": {},
   "source": [
    "Get feature importances"
   ]
  },
  {
   "cell_type": "code",
   "execution_count": 40,
   "id": "cc1cf986",
   "metadata": {},
   "outputs": [],
   "source": [
    "def r2(best_model, X_train, Y_train):\n",
    "    return r2_score(Y_train, best_model.predict(X_train))\n",
    "\n",
    "perm_imp_rfpimp = permutation_importances(best_model, X_train, Y_train, r2)"
   ]
  },
  {
   "cell_type": "code",
   "execution_count": 42,
   "id": "44c051cf",
   "metadata": {},
   "outputs": [],
   "source": [
    "os.chdir(res)\n",
    "perm_imp_rfpimp.to_csv('feature_importances.csv')"
   ]
  },
  {
   "cell_type": "code",
   "execution_count": null,
   "id": "a0c87205",
   "metadata": {},
   "outputs": [],
   "source": []
  }
 ],
 "metadata": {
  "kernelspec": {
   "display_name": "Python 3 (ipykernel)",
   "language": "python",
   "name": "python3"
  },
  "language_info": {
   "codemirror_mode": {
    "name": "ipython",
    "version": 3
   },
   "file_extension": ".py",
   "mimetype": "text/x-python",
   "name": "python",
   "nbconvert_exporter": "python",
   "pygments_lexer": "ipython3",
   "version": "3.8.11"
  }
 },
 "nbformat": 4,
 "nbformat_minor": 5
}
