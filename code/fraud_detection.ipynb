{
 "cells": [
  {
   "cell_type": "markdown",
   "id": "e0bb028c",
   "metadata": {},
   "source": [
    "# Raveling: Detecting fraudulent transactions"
   ]
  },
  {
   "cell_type": "markdown",
   "id": "bdc449a2",
   "metadata": {},
   "source": [
    "### Detailed description goes here"
   ]
  },
  {
   "cell_type": "code",
   "execution_count": 1,
   "id": "0a3e413f",
   "metadata": {},
   "outputs": [],
   "source": [
    "import os\n",
    "import sys\n",
    "import json\n",
    "import pandas as pd\n",
    "import numpy as np\n",
    "import matplotlib.pyplot as plt\n",
    "import seaborn\n",
    "from tqdm import tqdm\n",
    "tqdm.pandas()"
   ]
  },
  {
   "cell_type": "code",
   "execution_count": 2,
   "id": "ae6dd19b",
   "metadata": {},
   "outputs": [
    {
     "name": "stdout",
     "output_type": "stream",
     "text": [
      "/Users/viktoria/opt/anaconda3/envs/ravelin/bin/python\n"
     ]
    }
   ],
   "source": [
    "print(sys.executable)"
   ]
  },
  {
   "cell_type": "markdown",
   "id": "2a4e322b",
   "metadata": {},
   "source": [
    "Define directories"
   ]
  },
  {
   "cell_type": "code",
   "execution_count": 3,
   "id": "ebcdb324",
   "metadata": {},
   "outputs": [
    {
     "data": {
      "text/plain": [
       "'/Users/viktoria/Desktop/Fraud_project/code'"
      ]
     },
     "execution_count": 3,
     "metadata": {},
     "output_type": "execute_result"
    }
   ],
   "source": [
    "pwd"
   ]
  },
  {
   "cell_type": "code",
   "execution_count": 4,
   "id": "a86dd911",
   "metadata": {},
   "outputs": [],
   "source": [
    "base = os.path.join('..')\n",
    "code = os.path.join(base, 'code')\n",
    "raw = os.path.join(base, 'raw_data')\n",
    "preproc = os.path.join(base, 'preproc')\n",
    "viz = os.path.join(base, 'visualisation')\n",
    "res = os.path.join(base, 'results')"
   ]
  },
  {
   "cell_type": "markdown",
   "id": "0dcd30fb",
   "metadata": {},
   "source": [
    "Import the dataset ('raw_data/customers.json')"
   ]
  },
  {
   "cell_type": "code",
   "execution_count": 5,
   "id": "f88cfe6f",
   "metadata": {},
   "outputs": [],
   "source": [
    "os.chdir(raw)\n",
    "customers = pd.DataFrame()\n",
    "for line in open('customers.json', 'r'):\n",
    "    customers = customers.append(pd.json_normalize(json.loads(line)))\n",
    "\n",
    "customers = customers.reset_index(drop=True)"
   ]
  },
  {
   "cell_type": "code",
   "execution_count": 6,
   "id": "c65863d3",
   "metadata": {},
   "outputs": [
    {
     "data": {
      "text/plain": [
       "(168, 9)"
      ]
     },
     "execution_count": 6,
     "metadata": {},
     "output_type": "execute_result"
    }
   ],
   "source": [
    "customers.shape"
   ]
  },
  {
   "cell_type": "code",
   "execution_count": 7,
   "id": "1affe10d",
   "metadata": {},
   "outputs": [
    {
     "data": {
      "text/html": [
       "<div>\n",
       "<style scoped>\n",
       "    .dataframe tbody tr th:only-of-type {\n",
       "        vertical-align: middle;\n",
       "    }\n",
       "\n",
       "    .dataframe tbody tr th {\n",
       "        vertical-align: top;\n",
       "    }\n",
       "\n",
       "    .dataframe thead th {\n",
       "        text-align: right;\n",
       "    }\n",
       "</style>\n",
       "<table border=\"1\" class=\"dataframe\">\n",
       "  <thead>\n",
       "    <tr style=\"text-align: right;\">\n",
       "      <th></th>\n",
       "      <th>fraudulent</th>\n",
       "      <th>orders</th>\n",
       "      <th>paymentMethods</th>\n",
       "      <th>transactions</th>\n",
       "      <th>customer.customerEmail</th>\n",
       "      <th>customer.customerPhone</th>\n",
       "      <th>customer.customerDevice</th>\n",
       "      <th>customer.customerIPAddress</th>\n",
       "      <th>customer.customerBillingAddress</th>\n",
       "    </tr>\n",
       "  </thead>\n",
       "  <tbody>\n",
       "    <tr>\n",
       "      <th>0</th>\n",
       "      <td>False</td>\n",
       "      <td>[{'orderId': 'vjbdvd', 'orderAmount': 18, 'ord...</td>\n",
       "      <td>[{'paymentMethodId': 'wt07xm68b', 'paymentMeth...</td>\n",
       "      <td>[{'transactionId': 'a9lcj51r', 'orderId': 'vjb...</td>\n",
       "      <td>josephhoward@yahoo.com</td>\n",
       "      <td>400-108-5415</td>\n",
       "      <td>yyeiaxpltf82440jnb3v</td>\n",
       "      <td>8.129.104.40</td>\n",
       "      <td>5493 Jones Islands\\nBrownside, CA 51896</td>\n",
       "    </tr>\n",
       "    <tr>\n",
       "      <th>1</th>\n",
       "      <td>True</td>\n",
       "      <td>[{'orderId': 'nlghpa', 'orderAmount': 45, 'ord...</td>\n",
       "      <td>[{'paymentMethodId': 'y3xp697jx', 'paymentMeth...</td>\n",
       "      <td>[{'transactionId': '5mi94sfw', 'orderId': 'nlg...</td>\n",
       "      <td>evansjeffery@yahoo.com</td>\n",
       "      <td>1-788-091-7546</td>\n",
       "      <td>r0jpm7xaeqqa3kr6mzum</td>\n",
       "      <td>219.173.211.202</td>\n",
       "      <td>356 Elizabeth Inlet Suite 120\\nPort Joshuabury...</td>\n",
       "    </tr>\n",
       "    <tr>\n",
       "      <th>2</th>\n",
       "      <td>False</td>\n",
       "      <td>[{'orderId': 'yk34y2', 'orderAmount': 33, 'ord...</td>\n",
       "      <td>[{'paymentMethodId': '8pneoi03z', 'paymentMeth...</td>\n",
       "      <td>[{'transactionId': 'q3lyvbza', 'orderId': 'yk3...</td>\n",
       "      <td>andersonwilliam@yahoo.com</td>\n",
       "      <td>024.420.0375</td>\n",
       "      <td>4m7h5ipl1shyavt6vv2r</td>\n",
       "      <td>67b7:3db8:67e0:3bea:b9d0:90c1:2b60:b9f0</td>\n",
       "      <td>8478 Sean Ridges Apt. 441\\nDavisberg, PR 72250</td>\n",
       "    </tr>\n",
       "    <tr>\n",
       "      <th>3</th>\n",
       "      <td>False</td>\n",
       "      <td>[{'orderId': 'fbz9ep', 'orderAmount': 34, 'ord...</td>\n",
       "      <td>[{'paymentMethodId': 'pdxjdwui4', 'paymentMeth...</td>\n",
       "      <td>[{'transactionId': 'vx4cjc27', 'orderId': 'fbz...</td>\n",
       "      <td>rubenjuarez@yahoo.com</td>\n",
       "      <td>670.664.8168x94985</td>\n",
       "      <td>slovx60t0i558may4ks0</td>\n",
       "      <td>95de:8565:5a66:792c:26e0:6cfb:7d87:11af</td>\n",
       "      <td>7769 Elizabeth Bridge Apt. 343\\nNortonstad, FM...</td>\n",
       "    </tr>\n",
       "    <tr>\n",
       "      <th>4</th>\n",
       "      <td>True</td>\n",
       "      <td>[{'orderId': '56h7iw', 'orderAmount': 71, 'ord...</td>\n",
       "      <td>[{'paymentMethodId': 'w1i1zq3rg', 'paymentMeth...</td>\n",
       "      <td>[{'transactionId': 'q8j3dgni', 'orderId': '56h...</td>\n",
       "      <td>uchen@malone.com</td>\n",
       "      <td>1-981-877-0870</td>\n",
       "      <td>j0pd24k5h8dl2fqu0cz4</td>\n",
       "      <td>196.89.235.192</td>\n",
       "      <td>148 Russell Lodge Apt. 445\\nPort Jenniferside,...</td>\n",
       "    </tr>\n",
       "  </tbody>\n",
       "</table>\n",
       "</div>"
      ],
      "text/plain": [
       "   fraudulent                                             orders  \\\n",
       "0       False  [{'orderId': 'vjbdvd', 'orderAmount': 18, 'ord...   \n",
       "1        True  [{'orderId': 'nlghpa', 'orderAmount': 45, 'ord...   \n",
       "2       False  [{'orderId': 'yk34y2', 'orderAmount': 33, 'ord...   \n",
       "3       False  [{'orderId': 'fbz9ep', 'orderAmount': 34, 'ord...   \n",
       "4        True  [{'orderId': '56h7iw', 'orderAmount': 71, 'ord...   \n",
       "\n",
       "                                      paymentMethods  \\\n",
       "0  [{'paymentMethodId': 'wt07xm68b', 'paymentMeth...   \n",
       "1  [{'paymentMethodId': 'y3xp697jx', 'paymentMeth...   \n",
       "2  [{'paymentMethodId': '8pneoi03z', 'paymentMeth...   \n",
       "3  [{'paymentMethodId': 'pdxjdwui4', 'paymentMeth...   \n",
       "4  [{'paymentMethodId': 'w1i1zq3rg', 'paymentMeth...   \n",
       "\n",
       "                                        transactions  \\\n",
       "0  [{'transactionId': 'a9lcj51r', 'orderId': 'vjb...   \n",
       "1  [{'transactionId': '5mi94sfw', 'orderId': 'nlg...   \n",
       "2  [{'transactionId': 'q3lyvbza', 'orderId': 'yk3...   \n",
       "3  [{'transactionId': 'vx4cjc27', 'orderId': 'fbz...   \n",
       "4  [{'transactionId': 'q8j3dgni', 'orderId': '56h...   \n",
       "\n",
       "      customer.customerEmail customer.customerPhone customer.customerDevice  \\\n",
       "0     josephhoward@yahoo.com           400-108-5415    yyeiaxpltf82440jnb3v   \n",
       "1     evansjeffery@yahoo.com         1-788-091-7546    r0jpm7xaeqqa3kr6mzum   \n",
       "2  andersonwilliam@yahoo.com           024.420.0375    4m7h5ipl1shyavt6vv2r   \n",
       "3      rubenjuarez@yahoo.com     670.664.8168x94985    slovx60t0i558may4ks0   \n",
       "4           uchen@malone.com         1-981-877-0870    j0pd24k5h8dl2fqu0cz4   \n",
       "\n",
       "                customer.customerIPAddress  \\\n",
       "0                             8.129.104.40   \n",
       "1                          219.173.211.202   \n",
       "2  67b7:3db8:67e0:3bea:b9d0:90c1:2b60:b9f0   \n",
       "3  95de:8565:5a66:792c:26e0:6cfb:7d87:11af   \n",
       "4                           196.89.235.192   \n",
       "\n",
       "                     customer.customerBillingAddress  \n",
       "0            5493 Jones Islands\\nBrownside, CA 51896  \n",
       "1  356 Elizabeth Inlet Suite 120\\nPort Joshuabury...  \n",
       "2     8478 Sean Ridges Apt. 441\\nDavisberg, PR 72250  \n",
       "3  7769 Elizabeth Bridge Apt. 343\\nNortonstad, FM...  \n",
       "4  148 Russell Lodge Apt. 445\\nPort Jenniferside,...  "
      ]
     },
     "execution_count": 7,
     "metadata": {},
     "output_type": "execute_result"
    }
   ],
   "source": [
    "customers.head()"
   ]
  },
  {
   "cell_type": "code",
   "execution_count": null,
   "id": "9f73ca5b",
   "metadata": {},
   "outputs": [],
   "source": []
  }
 ],
 "metadata": {
  "kernelspec": {
   "display_name": "Python 3 (ipykernel)",
   "language": "python",
   "name": "python3"
  },
  "language_info": {
   "codemirror_mode": {
    "name": "ipython",
    "version": 3
   },
   "file_extension": ".py",
   "mimetype": "text/x-python",
   "name": "python",
   "nbconvert_exporter": "python",
   "pygments_lexer": "ipython3",
   "version": "3.8.11"
  }
 },
 "nbformat": 4,
 "nbformat_minor": 5
}
